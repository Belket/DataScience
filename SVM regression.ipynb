{
 "cells": [
  {
   "cell_type": "markdown",
   "metadata": {},
   "source": [
    "# Table of Contents\n",
    " <p><div class=\"lev1 toc-item\"><a href=\"#Регрессия-с-SVM-(3-балла)\" data-toc-modified-id=\"Регрессия-с-SVM-(3-балла)-1\"><span class=\"toc-item-num\">1&nbsp;&nbsp;</span>Регрессия с SVM (3 балла)</a></div><div class=\"lev2 toc-item\"><a href=\"#Визуализация-данных-(1-балл)\" data-toc-modified-id=\"Визуализация-данных-(1-балл)-11\"><span class=\"toc-item-num\">1.1&nbsp;&nbsp;</span>Визуализация данных (1 балл)</a></div><div class=\"lev2 toc-item\"><a href=\"#Обучение-моделей-(2-балла)\" data-toc-modified-id=\"Обучение-моделей-(2-балла)-12\"><span class=\"toc-item-num\">1.2&nbsp;&nbsp;</span>Обучение моделей (2 балла)</a></div><div class=\"lev1 toc-item\"><a href=\"#Определение-языка-слова-(7-баллов)\" data-toc-modified-id=\"Определение-языка-слова-(7-баллов)-2\"><span class=\"toc-item-num\">2&nbsp;&nbsp;</span>Определение языка слова (7 баллов)</a></div><div class=\"lev2 toc-item\"><a href=\"#Загрузка-(1-балл)\" data-toc-modified-id=\"Загрузка-(1-балл)-21\"><span class=\"toc-item-num\">2.1&nbsp;&nbsp;</span>Загрузка (1 балл)</a></div><div class=\"lev2 toc-item\"><a href=\"#Подход-с-n-граммами-(2-балла)\" data-toc-modified-id=\"Подход-с-n-граммами-(2-балла)-22\"><span class=\"toc-item-num\">2.2&nbsp;&nbsp;</span>Подход с n-граммами (2 балла)</a></div><div class=\"lev2 toc-item\"><a href=\"#Подход-с-пользовательским-ядром\" data-toc-modified-id=\"Подход-с-пользовательским-ядром-23\"><span class=\"toc-item-num\">2.3&nbsp;&nbsp;</span>Подход с пользовательским ядром</a></div><div class=\"lev3 toc-item\"><a href=\"#Подготовка-данных-(1-балла)\" data-toc-modified-id=\"Подготовка-данных-(1-балла)-231\"><span class=\"toc-item-num\">2.3.1&nbsp;&nbsp;</span>Подготовка данных (1 балла)</a></div><div class=\"lev3 toc-item\"><a href=\"#Расчет-ядра-(2-балла)\" data-toc-modified-id=\"Расчет-ядра-(2-балла)-232\"><span class=\"toc-item-num\">2.3.2&nbsp;&nbsp;</span>Расчет ядра (2 балла)</a></div><div class=\"lev3 toc-item\"><a href=\"#Оценка-качества-(1-балл)\" data-toc-modified-id=\"Оценка-качества-(1-балл)-233\"><span class=\"toc-item-num\">2.3.3&nbsp;&nbsp;</span>Оценка качества (1 балл)</a></div>"
   ]
  },
  {
   "cell_type": "markdown",
   "metadata": {},
   "source": [
    "# Регрессия с SVM (3 балла)"
   ]
  },
  {
   "cell_type": "markdown",
   "metadata": {},
   "source": [
    "SVM можно использовать и для задачи регрессии.\n",
    "\n",
    "Загрузите набор данных из *titanium.csv*<br/>\n",
    "Будем решать задачу восстановления столбца 'y' по столбцу 'x'."
   ]
  },
  {
   "cell_type": "markdown",
   "metadata": {},
   "source": [
    "## Визуализация данных (1 балл)"
   ]
  },
  {
   "cell_type": "markdown",
   "metadata": {},
   "source": [
    "Выполните стандартную предобработку данных (вычет среднего и деление на стандартное отклонение) и выведите их на графике."
   ]
  },
  {
   "cell_type": "code",
   "execution_count": 1,
   "metadata": {
    "collapsed": true
   },
   "outputs": [],
   "source": [
    "import pandas as pd\n",
    "import numpy as np"
   ]
  },
  {
   "cell_type": "code",
   "execution_count": 2,
   "metadata": {
    "collapsed": true
   },
   "outputs": [],
   "source": [
    "df = pd.read_csv('titanium.csv')"
   ]
  },
  {
   "cell_type": "code",
   "execution_count": 3,
   "metadata": {},
   "outputs": [
    {
     "data": {
      "text/html": [
       "<div>\n",
       "<style>\n",
       "    .dataframe thead tr:only-child th {\n",
       "        text-align: right;\n",
       "    }\n",
       "\n",
       "    .dataframe thead th {\n",
       "        text-align: left;\n",
       "    }\n",
       "\n",
       "    .dataframe tbody tr th {\n",
       "        vertical-align: top;\n",
       "    }\n",
       "</style>\n",
       "<table border=\"1\" class=\"dataframe\">\n",
       "  <thead>\n",
       "    <tr style=\"text-align: right;\">\n",
       "      <th></th>\n",
       "      <th>x</th>\n",
       "      <th>y</th>\n",
       "    </tr>\n",
       "  </thead>\n",
       "  <tbody>\n",
       "    <tr>\n",
       "      <th>0</th>\n",
       "      <td>585.0</td>\n",
       "      <td>0.644</td>\n",
       "    </tr>\n",
       "    <tr>\n",
       "      <th>1</th>\n",
       "      <td>595.0</td>\n",
       "      <td>0.622</td>\n",
       "    </tr>\n",
       "    <tr>\n",
       "      <th>2</th>\n",
       "      <td>605.0</td>\n",
       "      <td>0.638</td>\n",
       "    </tr>\n",
       "    <tr>\n",
       "      <th>3</th>\n",
       "      <td>615.0</td>\n",
       "      <td>0.649</td>\n",
       "    </tr>\n",
       "    <tr>\n",
       "      <th>4</th>\n",
       "      <td>625.0</td>\n",
       "      <td>0.652</td>\n",
       "    </tr>\n",
       "  </tbody>\n",
       "</table>\n",
       "</div>"
      ],
      "text/plain": [
       "       x      y\n",
       "0  585.0  0.644\n",
       "1  595.0  0.622\n",
       "2  605.0  0.638\n",
       "3  615.0  0.649\n",
       "4  625.0  0.652"
      ]
     },
     "execution_count": 3,
     "metadata": {},
     "output_type": "execute_result"
    }
   ],
   "source": [
    "df.head()"
   ]
  },
  {
   "cell_type": "code",
   "execution_count": 4,
   "metadata": {},
   "outputs": [
    {
     "name": "stdout",
     "output_type": "stream",
     "text": [
      "825.0\n",
      "141.4213562373095\n"
     ]
    }
   ],
   "source": [
    "Average_X = np.mean(df['x'])\n",
    "print(Average_X)\n",
    "StandartDeviation_X = np.std(df['x'])\n",
    "print(StandartDeviation_X)"
   ]
  },
  {
   "cell_type": "code",
   "execution_count": 5,
   "metadata": {
    "collapsed": true
   },
   "outputs": [],
   "source": [
    "for i in df.index:\n",
    "    df.loc[i,'x'] = (df.loc[i,'x'] - Average_X)/ StandartDeviation_X"
   ]
  },
  {
   "cell_type": "code",
   "execution_count": 6,
   "metadata": {},
   "outputs": [
    {
     "data": {
      "text/html": [
       "<div>\n",
       "<style>\n",
       "    .dataframe thead tr:only-child th {\n",
       "        text-align: right;\n",
       "    }\n",
       "\n",
       "    .dataframe thead th {\n",
       "        text-align: left;\n",
       "    }\n",
       "\n",
       "    .dataframe tbody tr th {\n",
       "        vertical-align: top;\n",
       "    }\n",
       "</style>\n",
       "<table border=\"1\" class=\"dataframe\">\n",
       "  <thead>\n",
       "    <tr style=\"text-align: right;\">\n",
       "      <th></th>\n",
       "      <th>x</th>\n",
       "      <th>y</th>\n",
       "    </tr>\n",
       "  </thead>\n",
       "  <tbody>\n",
       "    <tr>\n",
       "      <th>0</th>\n",
       "      <td>-1.697056</td>\n",
       "      <td>0.644</td>\n",
       "    </tr>\n",
       "    <tr>\n",
       "      <th>1</th>\n",
       "      <td>-1.626346</td>\n",
       "      <td>0.622</td>\n",
       "    </tr>\n",
       "    <tr>\n",
       "      <th>2</th>\n",
       "      <td>-1.555635</td>\n",
       "      <td>0.638</td>\n",
       "    </tr>\n",
       "    <tr>\n",
       "      <th>3</th>\n",
       "      <td>-1.484924</td>\n",
       "      <td>0.649</td>\n",
       "    </tr>\n",
       "    <tr>\n",
       "      <th>4</th>\n",
       "      <td>-1.414214</td>\n",
       "      <td>0.652</td>\n",
       "    </tr>\n",
       "    <tr>\n",
       "      <th>5</th>\n",
       "      <td>-1.343503</td>\n",
       "      <td>0.639</td>\n",
       "    </tr>\n",
       "    <tr>\n",
       "      <th>6</th>\n",
       "      <td>-1.272792</td>\n",
       "      <td>0.646</td>\n",
       "    </tr>\n",
       "    <tr>\n",
       "      <th>7</th>\n",
       "      <td>-1.202082</td>\n",
       "      <td>0.657</td>\n",
       "    </tr>\n",
       "    <tr>\n",
       "      <th>8</th>\n",
       "      <td>-1.131371</td>\n",
       "      <td>0.652</td>\n",
       "    </tr>\n",
       "    <tr>\n",
       "      <th>9</th>\n",
       "      <td>-1.060660</td>\n",
       "      <td>0.655</td>\n",
       "    </tr>\n",
       "    <tr>\n",
       "      <th>10</th>\n",
       "      <td>-0.989949</td>\n",
       "      <td>0.644</td>\n",
       "    </tr>\n",
       "    <tr>\n",
       "      <th>11</th>\n",
       "      <td>-0.919239</td>\n",
       "      <td>0.663</td>\n",
       "    </tr>\n",
       "    <tr>\n",
       "      <th>12</th>\n",
       "      <td>-0.848528</td>\n",
       "      <td>0.663</td>\n",
       "    </tr>\n",
       "    <tr>\n",
       "      <th>13</th>\n",
       "      <td>-0.777817</td>\n",
       "      <td>0.668</td>\n",
       "    </tr>\n",
       "    <tr>\n",
       "      <th>14</th>\n",
       "      <td>-0.707107</td>\n",
       "      <td>0.676</td>\n",
       "    </tr>\n",
       "    <tr>\n",
       "      <th>15</th>\n",
       "      <td>-0.636396</td>\n",
       "      <td>0.676</td>\n",
       "    </tr>\n",
       "    <tr>\n",
       "      <th>16</th>\n",
       "      <td>-0.565685</td>\n",
       "      <td>0.686</td>\n",
       "    </tr>\n",
       "    <tr>\n",
       "      <th>17</th>\n",
       "      <td>-0.494975</td>\n",
       "      <td>0.679</td>\n",
       "    </tr>\n",
       "    <tr>\n",
       "      <th>18</th>\n",
       "      <td>-0.424264</td>\n",
       "      <td>0.678</td>\n",
       "    </tr>\n",
       "    <tr>\n",
       "      <th>19</th>\n",
       "      <td>-0.353553</td>\n",
       "      <td>0.683</td>\n",
       "    </tr>\n",
       "    <tr>\n",
       "      <th>20</th>\n",
       "      <td>-0.282843</td>\n",
       "      <td>0.694</td>\n",
       "    </tr>\n",
       "    <tr>\n",
       "      <th>21</th>\n",
       "      <td>-0.212132</td>\n",
       "      <td>0.699</td>\n",
       "    </tr>\n",
       "    <tr>\n",
       "      <th>22</th>\n",
       "      <td>-0.141421</td>\n",
       "      <td>0.710</td>\n",
       "    </tr>\n",
       "    <tr>\n",
       "      <th>23</th>\n",
       "      <td>-0.070711</td>\n",
       "      <td>0.730</td>\n",
       "    </tr>\n",
       "    <tr>\n",
       "      <th>24</th>\n",
       "      <td>0.000000</td>\n",
       "      <td>0.763</td>\n",
       "    </tr>\n",
       "    <tr>\n",
       "      <th>25</th>\n",
       "      <td>0.070711</td>\n",
       "      <td>0.812</td>\n",
       "    </tr>\n",
       "    <tr>\n",
       "      <th>26</th>\n",
       "      <td>0.141421</td>\n",
       "      <td>0.907</td>\n",
       "    </tr>\n",
       "    <tr>\n",
       "      <th>27</th>\n",
       "      <td>0.212132</td>\n",
       "      <td>1.044</td>\n",
       "    </tr>\n",
       "    <tr>\n",
       "      <th>28</th>\n",
       "      <td>0.282843</td>\n",
       "      <td>1.336</td>\n",
       "    </tr>\n",
       "    <tr>\n",
       "      <th>29</th>\n",
       "      <td>0.353553</td>\n",
       "      <td>1.881</td>\n",
       "    </tr>\n",
       "    <tr>\n",
       "      <th>30</th>\n",
       "      <td>0.424264</td>\n",
       "      <td>2.169</td>\n",
       "    </tr>\n",
       "    <tr>\n",
       "      <th>31</th>\n",
       "      <td>0.494975</td>\n",
       "      <td>2.075</td>\n",
       "    </tr>\n",
       "    <tr>\n",
       "      <th>32</th>\n",
       "      <td>0.565685</td>\n",
       "      <td>1.598</td>\n",
       "    </tr>\n",
       "    <tr>\n",
       "      <th>33</th>\n",
       "      <td>0.636396</td>\n",
       "      <td>1.211</td>\n",
       "    </tr>\n",
       "    <tr>\n",
       "      <th>34</th>\n",
       "      <td>0.707107</td>\n",
       "      <td>0.916</td>\n",
       "    </tr>\n",
       "    <tr>\n",
       "      <th>35</th>\n",
       "      <td>0.777817</td>\n",
       "      <td>0.746</td>\n",
       "    </tr>\n",
       "    <tr>\n",
       "      <th>36</th>\n",
       "      <td>0.848528</td>\n",
       "      <td>0.672</td>\n",
       "    </tr>\n",
       "    <tr>\n",
       "      <th>37</th>\n",
       "      <td>0.919239</td>\n",
       "      <td>0.627</td>\n",
       "    </tr>\n",
       "    <tr>\n",
       "      <th>38</th>\n",
       "      <td>0.989949</td>\n",
       "      <td>0.615</td>\n",
       "    </tr>\n",
       "    <tr>\n",
       "      <th>39</th>\n",
       "      <td>1.060660</td>\n",
       "      <td>0.607</td>\n",
       "    </tr>\n",
       "    <tr>\n",
       "      <th>40</th>\n",
       "      <td>1.131371</td>\n",
       "      <td>0.606</td>\n",
       "    </tr>\n",
       "    <tr>\n",
       "      <th>41</th>\n",
       "      <td>1.202082</td>\n",
       "      <td>0.609</td>\n",
       "    </tr>\n",
       "    <tr>\n",
       "      <th>42</th>\n",
       "      <td>1.272792</td>\n",
       "      <td>0.603</td>\n",
       "    </tr>\n",
       "    <tr>\n",
       "      <th>43</th>\n",
       "      <td>1.343503</td>\n",
       "      <td>0.601</td>\n",
       "    </tr>\n",
       "    <tr>\n",
       "      <th>44</th>\n",
       "      <td>1.414214</td>\n",
       "      <td>0.603</td>\n",
       "    </tr>\n",
       "    <tr>\n",
       "      <th>45</th>\n",
       "      <td>1.484924</td>\n",
       "      <td>0.601</td>\n",
       "    </tr>\n",
       "    <tr>\n",
       "      <th>46</th>\n",
       "      <td>1.555635</td>\n",
       "      <td>0.611</td>\n",
       "    </tr>\n",
       "    <tr>\n",
       "      <th>47</th>\n",
       "      <td>1.626346</td>\n",
       "      <td>0.601</td>\n",
       "    </tr>\n",
       "    <tr>\n",
       "      <th>48</th>\n",
       "      <td>1.697056</td>\n",
       "      <td>0.608</td>\n",
       "    </tr>\n",
       "  </tbody>\n",
       "</table>\n",
       "</div>"
      ],
      "text/plain": [
       "           x      y\n",
       "0  -1.697056  0.644\n",
       "1  -1.626346  0.622\n",
       "2  -1.555635  0.638\n",
       "3  -1.484924  0.649\n",
       "4  -1.414214  0.652\n",
       "5  -1.343503  0.639\n",
       "6  -1.272792  0.646\n",
       "7  -1.202082  0.657\n",
       "8  -1.131371  0.652\n",
       "9  -1.060660  0.655\n",
       "10 -0.989949  0.644\n",
       "11 -0.919239  0.663\n",
       "12 -0.848528  0.663\n",
       "13 -0.777817  0.668\n",
       "14 -0.707107  0.676\n",
       "15 -0.636396  0.676\n",
       "16 -0.565685  0.686\n",
       "17 -0.494975  0.679\n",
       "18 -0.424264  0.678\n",
       "19 -0.353553  0.683\n",
       "20 -0.282843  0.694\n",
       "21 -0.212132  0.699\n",
       "22 -0.141421  0.710\n",
       "23 -0.070711  0.730\n",
       "24  0.000000  0.763\n",
       "25  0.070711  0.812\n",
       "26  0.141421  0.907\n",
       "27  0.212132  1.044\n",
       "28  0.282843  1.336\n",
       "29  0.353553  1.881\n",
       "30  0.424264  2.169\n",
       "31  0.494975  2.075\n",
       "32  0.565685  1.598\n",
       "33  0.636396  1.211\n",
       "34  0.707107  0.916\n",
       "35  0.777817  0.746\n",
       "36  0.848528  0.672\n",
       "37  0.919239  0.627\n",
       "38  0.989949  0.615\n",
       "39  1.060660  0.607\n",
       "40  1.131371  0.606\n",
       "41  1.202082  0.609\n",
       "42  1.272792  0.603\n",
       "43  1.343503  0.601\n",
       "44  1.414214  0.603\n",
       "45  1.484924  0.601\n",
       "46  1.555635  0.611\n",
       "47  1.626346  0.601\n",
       "48  1.697056  0.608"
      ]
     },
     "execution_count": 6,
     "metadata": {},
     "output_type": "execute_result"
    }
   ],
   "source": [
    "df"
   ]
  },
  {
   "cell_type": "code",
   "execution_count": 7,
   "metadata": {
    "collapsed": true
   },
   "outputs": [],
   "source": [
    "%matplotlib inline\n",
    "from matplotlib import pyplot as plt"
   ]
  },
  {
   "cell_type": "code",
   "execution_count": 8,
   "metadata": {},
   "outputs": [
    {
     "data": {
      "text/plain": [
       "<matplotlib.text.Text at 0x8ffd498940>"
      ]
     },
     "execution_count": 8,
     "metadata": {},
     "output_type": "execute_result"
    },
    {
     "data": {
      "image/png": "[encoded data removed]",
      "text/plain": [
       "<matplotlib.figure.Figure at 0x8ffd1855f8>"
      ]
     },
     "metadata": {},
     "output_type": "display_data"
    }
   ],
   "source": [
    "plt.plot(df['y'])\n",
    "plt.xlabel('index')\n",
    "plt.ylabel('value')"
   ]
  },
  {
   "cell_type": "markdown",
   "metadata": {},
   "source": [
    "## Обучение моделей (2 балла)"
   ]
  },
  {
   "cell_type": "markdown",
   "metadata": {},
   "source": [
    "Рассмотрим 3 ядра: \n",
    "* Линейное\n",
    "* Полиномиальное (`degree = 3`, `gamma = 6`, `coef0 = 1`)\n",
    "* RBF (`gamma = 6`, `coef0 = 1`)\n",
    "\n",
    "Во всех случаях установите точность алгоритма оптимизации `epsilon=0.01`\n",
    "\n",
    "Для каждого из ядер:\n",
    "1. Постройте графики зависимости ошибки от параметра $C$ (ось графика со значениями параметра $C$ должна быть в логарифмической шкале). Ошибка измеряется как средняя абсолютная ошибка. \n",
    "2. Для наилучшего параметра $C$ постройте график с данными и предсказанием с помощью SVM.\n",
    "\n",
    "В каких случаях возникают эффекты недообучения, переобучения?"
   ]
  },
  {
   "cell_type": "code",
   "execution_count": 9,
   "metadata": {
    "collapsed": true
   },
   "outputs": [],
   "source": [
    "from sklearn.svm import SVR\n",
    "from sklearn.metrics import mean_absolute_error\n",
    "from sklearn.model_selection import train_test_split"
   ]
  },
  {
   "cell_type": "code",
   "execution_count": 10,
   "metadata": {},
   "outputs": [
    {
     "data": {
      "text/plain": [
       "array([  1.00000000e-05,   1.77827941e-04,   3.16227766e-03,\n",
       "         5.62341325e-02,   1.00000000e+00,   1.77827941e+01,\n",
       "         3.16227766e+02,   5.62341325e+03,   1.00000000e+05])"
      ]
     },
     "execution_count": 10,
     "metadata": {},
     "output_type": "execute_result"
    }
   ],
   "source": [
    "C = np.logspace(-5,5,9)\n",
    "C"
   ]
  },
  {
   "cell_type": "code",
   "execution_count": 11,
   "metadata": {
    "collapsed": true
   },
   "outputs": [],
   "source": [
    "X_train,X_test,y_train,y_test = train_test_split(df['x'],df['y'],test_size = 0.3,shuffle=True)"
   ]
  },
  {
   "cell_type": "code",
   "execution_count": 12,
   "metadata": {
    "collapsed": true
   },
   "outputs": [],
   "source": [
    "X_train = X_train.values.reshape(-1,1)\n",
    "X_test = X_test.values.reshape(-1,1)"
   ]
  },
  {
   "cell_type": "code",
   "execution_count": 13,
   "metadata": {},
   "outputs": [
    {
     "data": {
      "text/plain": [
       "{1.0000000000000001e-05: 0.22630609166671173,\n",
       " 0.00017782794100389227: 0.22696775332487501,\n",
       " 0.0031622776601683794: 0.23123675999176477,\n",
       " 0.056234132519034911: 0.23484224759562469,\n",
       " 1.0: 0.23424442882561922,\n",
       " 17.782794100389228: 0.2342441599062291,\n",
       " 316.22776601683796: 0.2343145390552045,\n",
       " 5623.4132519034911: 0.23454661101696164,\n",
       " 100000.0: 0.22883098637019555}"
      ]
     },
     "execution_count": 13,
     "metadata": {},
     "output_type": "execute_result"
    }
   ],
   "source": [
    "result_line = dict.fromkeys(C)\n",
    "for i in C:\n",
    "    SVR_Line = SVR(C = i,kernel='linear',tol=0.01)\n",
    "    SVR_Line.fit(X_train,y_train)\n",
    "    y_hat_line = SVR_Line.predict(X_test)\n",
    "    mistake = mean_absolute_error(y_test,y_hat_line)\n",
    "    result_line[i] = mistake\n",
    "result_line"
   ]
  },
  {
   "cell_type": "code",
   "execution_count": 14,
   "metadata": {},
   "outputs": [
    {
     "name": "stdout",
     "output_type": "stream",
     "text": [
      "[1.0000000000000001e-05, 0.00017782794100389227, 0.0031622776601683794, 0.056234132519034911, 1.0, 17.782794100389228, 316.22776601683796, 5623.4132519034911, 100000.0]\n",
      "[0.22630609166671173, 0.22696775332487501, 0.23123675999176477, 0.23484224759562469, 0.23424442882561922, 0.2342441599062291, 0.2343145390552045, 0.23454661101696164, 0.22883098637019555]\n"
     ]
    }
   ],
   "source": [
    "x_line = []\n",
    "y_line = []\n",
    "for key in result_line:\n",
    "    y_line.append(result_line[key])\n",
    "    x_line.append(key)\n",
    "print(x_line)\n",
    "print(y_line)"
   ]
  },
  {
   "cell_type": "code",
   "execution_count": 15,
   "metadata": {},
   "outputs": [
    {
     "data": {
      "text/plain": [
       "<matplotlib.text.Text at 0x8fff55bd68>"
      ]
     },
     "execution_count": 15,
     "metadata": {},
     "output_type": "execute_result"
    },
    {
     "data": {
      "image/png": "[encoded data removed]",
      "text/plain": [
       "<matplotlib.figure.Figure at 0x8fff54a6d8>"
      ]
     },
     "metadata": {},
     "output_type": "display_data"
    }
   ],
   "source": [
    "plt.plot(x_line,y_line)\n",
    "plt.semilogx()\n",
    "plt.xlabel('C')\n",
    "plt.ylabel('Mistake')"
   ]
  },
  {
   "cell_type": "code",
   "execution_count": 16,
   "metadata": {},
   "outputs": [
    {
     "data": {
      "text/plain": [
       "{1.0000000000000001e-05: 0.23451869408088194,\n",
       " 0.00017782794100389227: 0.23434639095414178,\n",
       " 0.0031622776601683794: 0.22973615716912493,\n",
       " 0.056234132519034911: 0.23371175308855255,\n",
       " 1.0: 0.23461371071451964,\n",
       " 17.782794100389228: 0.23501452041736537,\n",
       " 316.22776601683796: 0.23449389888588942,\n",
       " 5623.4132519034911: 0.53031945477629716,\n",
       " 100000.0: 0.63997141174636318}"
      ]
     },
     "execution_count": 16,
     "metadata": {},
     "output_type": "execute_result"
    }
   ],
   "source": [
    "result_poli = dict.fromkeys(C)\n",
    "for i in C:\n",
    "    SVR_Poli = SVR(C=i,degree=3,gamma=6,coef0=1,tol=0.01,kernel='poly')\n",
    "    SVR_Poli.fit(X_train,y_train)\n",
    "    y_hat_poli = SVR_Poli.predict(X_test)\n",
    "    mistake = mean_absolute_error(y_hat_poli,y_test)\n",
    "    result_poli[i] = mistake\n",
    "result_poli"
   ]
  },
  {
   "cell_type": "code",
   "execution_count": 17,
   "metadata": {},
   "outputs": [
    {
     "name": "stdout",
     "output_type": "stream",
     "text": [
      "[1.0000000000000001e-05, 0.00017782794100389227, 0.0031622776601683794, 0.056234132519034911, 1.0, 17.782794100389228, 316.22776601683796, 5623.4132519034911, 100000.0]\n",
      "[0.23451869408088194, 0.23434639095414178, 0.22973615716912493, 0.23371175308855255, 0.23461371071451964, 0.23501452041736537, 0.23449389888588942, 0.53031945477629716, 0.63997141174636318]\n"
     ]
    }
   ],
   "source": [
    "x_poli = []\n",
    "y_poli = []\n",
    "for key in result_poli:\n",
    "    y_poli.append(result_poli[key])\n",
    "    x_poli.append(key)\n",
    "print(x_poli)\n",
    "print(y_poli)"
   ]
  },
  {
   "cell_type": "code",
   "execution_count": 18,
   "metadata": {},
   "outputs": [
    {
     "data": {
      "text/plain": [
       "<matplotlib.text.Text at 0x8fff6d3518>"
      ]
     },
     "execution_count": 18,
     "metadata": {},
     "output_type": "execute_result"
    },
    {
     "data": {
      "image/png": "[encoded data removed]",
      "text/plain": [
       "<matplotlib.figure.Figure at 0x8fff681208>"
      ]
     },
     "metadata": {},
     "output_type": "display_data"
    }
   ],
   "source": [
    "plt.plot(x_poli,y_poli)\n",
    "plt.semilogx()\n",
    "plt.xlabel('C')\n",
    "plt.ylabel('Mistake')"
   ]
  },
  {
   "cell_type": "code",
   "execution_count": 19,
   "metadata": {},
   "outputs": [
    {
     "data": {
      "text/plain": [
       "{1.0000000000000001e-05: 0.22676116742351937,\n",
       " 0.00017782794100389227: 0.22666887475806988,\n",
       " 0.0031622776601683794: 0.22502765329140678,\n",
       " 0.056234132519034911: 0.21433095680668296,\n",
       " 1.0: 0.13489697323174601,\n",
       " 17.782794100389228: 0.076928663615807066,\n",
       " 316.22776601683796: 0.083048309283103125,\n",
       " 5623.4132519034911: 0.083048309283103125,\n",
       " 100000.0: 0.083048309283103125}"
      ]
     },
     "execution_count": 19,
     "metadata": {},
     "output_type": "execute_result"
    }
   ],
   "source": [
    "result_rbf = dict.fromkeys(C)\n",
    "for i in C:\n",
    "    SVR_RBF = SVR(C = i,gamma=6,coef0=1,tol = 0.01,kernel='rbf')\n",
    "    SVR_RBF.fit(X_train,y_train)\n",
    "    y_hat_rbf = SVR_RBF.predict(X_test)\n",
    "    mistake = mean_absolute_error(y_hat_rbf,y_test)\n",
    "    result_rbf[i] = mistake\n",
    "result_rbf"
   ]
  },
  {
   "cell_type": "code",
   "execution_count": 20,
   "metadata": {},
   "outputs": [
    {
     "name": "stdout",
     "output_type": "stream",
     "text": [
      "[1.0000000000000001e-05, 0.00017782794100389227, 0.0031622776601683794, 0.056234132519034911, 1.0, 17.782794100389228, 316.22776601683796, 5623.4132519034911, 100000.0]\n",
      "[0.22676116742351937, 0.22666887475806988, 0.22502765329140678, 0.21433095680668296, 0.13489697323174601, 0.076928663615807066, 0.083048309283103125, 0.083048309283103125, 0.083048309283103125]\n"
     ]
    }
   ],
   "source": [
    "x_rbf = []\n",
    "y_rbf = []\n",
    "for key in result_rbf:\n",
    "    y_rbf.append(result_rbf[key])\n",
    "    x_rbf.append(key)\n",
    "print(x_rbf)\n",
    "print(y_rbf)"
   ]
  },
  {
   "cell_type": "code",
   "execution_count": 21,
   "metadata": {},
   "outputs": [
    {
     "data": {
      "text/plain": [
       "<matplotlib.text.Text at 0x8ff7a30828>"
      ]
     },
     "execution_count": 21,
     "metadata": {},
     "output_type": "execute_result"
    },
    {
     "data": {
      "image/png": "[encoded data removed]",
      "text/plain": [
       "<matplotlib.figure.Figure at 0x8fff5f9eb8>"
      ]
     },
     "metadata": {},
     "output_type": "display_data"
    }
   ],
   "source": [
    "plt.plot(x_rbf,y_rbf)\n",
    "plt.semilogx()\n",
    "plt.xlabel('C')\n",
    "plt.ylabel('Mistake')"
   ]
  },
  {
   "cell_type": "markdown",
   "metadata": {},
   "source": [
    "### For best parametrs"
   ]
  },
  {
   "cell_type": "code",
   "execution_count": 22,
   "metadata": {},
   "outputs": [
    {
     "data": {
      "text/plain": [
       "{'Line': 0.22630609166671173,\n",
       " 'Poli': 0.22973615716912493,\n",
       " 'RBF': 0.076928663615807066}"
      ]
     },
     "execution_count": 22,
     "metadata": {},
     "output_type": "execute_result"
    }
   ],
   "source": [
    "Min_dict = dict.fromkeys(['Line','Poli','RBF'])\n",
    "Min_dict['Line'] = min(y_line)\n",
    "Min_dict['Poli'] = min(y_poli)\n",
    "Min_dict['RBF'] = min(y_rbf)\n",
    "Min_dict"
   ]
  },
  {
   "cell_type": "markdown",
   "metadata": {},
   "source": [
    "#### Linear"
   ]
  },
  {
   "cell_type": "code",
   "execution_count": 23,
   "metadata": {},
   "outputs": [
    {
     "data": {
      "text/plain": [
       "1.0000000000000001e-05"
      ]
     },
     "execution_count": 23,
     "metadata": {},
     "output_type": "execute_result"
    }
   ],
   "source": [
    "for key in result_line:\n",
    "    if result_line[key] == Min_dict['Line']:\n",
    "        Best_C_Line = key\n",
    "Best_C_Line"
   ]
  },
  {
   "cell_type": "code",
   "execution_count": 24,
   "metadata": {
    "collapsed": true
   },
   "outputs": [],
   "source": [
    "SVR_Best_Line = SVR(C = Best_C_Line,kernel='linear',tol=0.01)"
   ]
  },
  {
   "cell_type": "code",
   "execution_count": 25,
   "metadata": {},
   "outputs": [
    {
     "data": {
      "text/plain": [
       "[<matplotlib.lines.Line2D at 0x8ff7a77e10>]"
      ]
     },
     "execution_count": 25,
     "metadata": {},
     "output_type": "execute_result"
    },
    {
     "data": {
      "image/png": "[encoded data removed]",
      "text/plain": [
       "<matplotlib.figure.Figure at 0x8ff7a17128>"
      ]
     },
     "metadata": {},
     "output_type": "display_data"
    }
   ],
   "source": [
    "SVR_Best_Line.fit(X_train,y_train)\n",
    "y_hat_best_Line = SVR_Best_Line.predict(X_test)\n",
    "plt.scatter(X_test,y_hat_best_Line)\n",
    "plt.plot(df['x'],df['y'],c = 'red')"
   ]
  },
  {
   "cell_type": "markdown",
   "metadata": {},
   "source": [
    "#### Polinomian"
   ]
  },
  {
   "cell_type": "code",
   "execution_count": 26,
   "metadata": {},
   "outputs": [
    {
     "data": {
      "text/plain": [
       "0.0031622776601683794"
      ]
     },
     "execution_count": 26,
     "metadata": {},
     "output_type": "execute_result"
    }
   ],
   "source": [
    "for key in result_poli:\n",
    "    if result_poli[key] == Min_dict['Poli']:\n",
    "        Best_C_Poli = key\n",
    "Best_C_Poli"
   ]
  },
  {
   "cell_type": "code",
   "execution_count": 27,
   "metadata": {
    "collapsed": true
   },
   "outputs": [],
   "source": [
    "SVR_Best_Poli = SVR(C = Best_C_Poli,degree=3,gamma=6,coef0=1,tol=0.01,kernel='poly')"
   ]
  },
  {
   "cell_type": "code",
   "execution_count": 28,
   "metadata": {},
   "outputs": [
    {
     "data": {
      "text/plain": [
       "[<matplotlib.lines.Line2D at 0x8ff7b16978>]"
      ]
     },
     "execution_count": 28,
     "metadata": {},
     "output_type": "execute_result"
    },
    {
     "data": {
      "image/png": "[encoded data removed]",
      "text/plain": [
       "<matplotlib.figure.Figure at 0x8ff7b16080>"
      ]
     },
     "metadata": {},
     "output_type": "display_data"
    }
   ],
   "source": [
    "SVR_Best_Poli.fit(X_train,y_train)\n",
    "y_hat_best_Poli = SVR_Best_Poli.predict(X_test)\n",
    "plt.scatter(X_test,y_hat_best_Poli)\n",
    "plt.plot(df['x'],df['y'],c = 'red')"
   ]
  },
  {
   "cell_type": "markdown",
   "metadata": {},
   "source": [
    "##### RBF"
   ]
  },
  {
   "cell_type": "code",
   "execution_count": 29,
   "metadata": {},
   "outputs": [
    {
     "data": {
      "text/plain": [
       "17.782794100389228"
      ]
     },
     "execution_count": 29,
     "metadata": {},
     "output_type": "execute_result"
    }
   ],
   "source": [
    "for key in result_rbf:\n",
    "    if result_rbf[key] == Min_dict['RBF']:\n",
    "        Best_C_RBF = key\n",
    "Best_C_RBF"
   ]
  },
  {
   "cell_type": "code",
   "execution_count": 30,
   "metadata": {
    "collapsed": true
   },
   "outputs": [],
   "source": [
    "SVR_Best_RBF = SVR(kernel='rbf',C = Best_C_RBF,gamma=6,coef0=1,tol = 0.01)"
   ]
  },
  {
   "cell_type": "code",
   "execution_count": 31,
   "metadata": {},
   "outputs": [
    {
     "data": {
      "text/plain": [
       "[<matplotlib.lines.Line2D at 0x8ff79d9320>]"
      ]
     },
     "execution_count": 31,
     "metadata": {},
     "output_type": "execute_result"
    },
    {
     "data": {
      "image/png": "[encoded data removed]",
      "text/plain": [
       "<matplotlib.figure.Figure at 0x8fff748588>"
      ]
     },
     "metadata": {},
     "output_type": "display_data"
    }
   ],
   "source": [
    "SVR_Best_RBF.fit(X_train,y_train)\n",
    "y_hat_best_RBF = SVR_Best_RBF.predict(X_test)\n",
    "plt.scatter(X_test,y_hat_best_RBF)\n",
    "plt.plot(df['x'], df['y'], c='r')\n",
    "#plt.scatter(X_train, y_train)"
   ]
  },
  {
   "cell_type": "markdown",
   "metadata": {},
   "source": [
    "# Определение языка слова (7 баллов)"
   ]
  },
  {
   "cell_type": "markdown",
   "metadata": {},
   "source": [
    "В данном задании вам необходимо построить модель, которая будет определять, на каком языке написано слово. Сделать это будет предложено двумя способами.\n",
    "\n",
    "Даны два текста - первые предложения произведения \"Война и Мир\" на английком и испанском, разбитые на слова."
   ]
  },
  {
   "cell_type": "markdown",
   "metadata": {},
   "source": [
    "## Загрузка (1 балл)\n",
    "\n",
    "Загрузите данные из файлов *war_and_peace_es.txt* и *war_and_peace_en.txt*.<br/> \n",
    "В результате вы должны получить pandas.DataFrame со столбцами *index* | *word* | *label*, где *index* - это индекс pandas, *word* - это слово и *label* - это метка класса (0 или 1)"
   ]
  },
  {
   "cell_type": "code",
   "execution_count": 32,
   "metadata": {
    "collapsed": true
   },
   "outputs": [],
   "source": [
    "df_en = pd.read_csv('war_and_peace_en.txt',header=None)\n",
    "df_es = pd.read_csv('war_and_peace_es.txt',header=None)"
   ]
  },
  {
   "cell_type": "code",
   "execution_count": 33,
   "metadata": {
    "collapsed": true
   },
   "outputs": [],
   "source": [
    "df_en.columns = ['word']\n",
    "df_es.columns = ['word']\n",
    "df_es['label'] = 0\n",
    "df_en['label'] = 1"
   ]
  },
  {
   "cell_type": "code",
   "execution_count": 34,
   "metadata": {},
   "outputs": [
    {
     "data": {
      "text/plain": [
       "11403"
      ]
     },
     "execution_count": 34,
     "metadata": {},
     "output_type": "execute_result"
    }
   ],
   "source": [
    "df_lang = pd.DataFrame()\n",
    "words = list(df_en['word']) + list(df_es['word'])\n",
    "len(words)"
   ]
  },
  {
   "cell_type": "code",
   "execution_count": 35,
   "metadata": {},
   "outputs": [
    {
     "name": "stderr",
     "output_type": "stream",
     "text": [
      "C:\\Users\\Gleb\\Anaconda3\\lib\\site-packages\\ipykernel_launcher.py:4: SettingWithCopyWarning: \n",
      "A value is trying to be set on a copy of a slice from a DataFrame\n",
      "\n",
      "See the caveats in the documentation: http://pandas.pydata.org/pandas-docs/stable/indexing.html#indexing-view-versus-copy\n",
      "  after removing the cwd from sys.path.\n"
     ]
    }
   ],
   "source": [
    "df_lang = pd.DataFrame()\n",
    "df_lang['word'] = words\n",
    "df_lang['label'] = 0\n",
    "df_lang['label'][:len(df_en)] = 1"
   ]
  },
  {
   "cell_type": "markdown",
   "metadata": {},
   "source": [
    "## Подход с n-граммами (2 балла)"
   ]
  },
  {
   "cell_type": "markdown",
   "metadata": {},
   "source": [
    "На этом этапе предлагается построить модель используя n-граммы слов, то есть последовательностях из n символов.<br/>\n",
    "Таким образом, признаками наших данных будут все найденные n-граммы слов, а значениями признаков будут частоты соответствующих n-грамм в слове.<br/>\n",
    "Например, для слова \"guerra\" би-граммами будут \"gu\", \"ue\", \"er\", \"rr\", \"ra\", каждая из которых встречается в нем с частотой 1.\n",
    "\n",
    "Для того, чтобы выделять n-граммы, удобно использовать `CountVectorizer()` с аргументами `analyzer='char'` и `ngram_range=(n_min, n_max)`. Вы наверняка встречались с этим векторизатором в предыдущем модуле.\n",
    "\n",
    "Таким образом, сделайте следующее:\n",
    "1. Задайте переменную RND_SEED, которая будет использоваться в любых генераторах случайных чисел в вашем коде (обычно параметр \"random_seed\")\n",
    "2. Разбейте данные на обучающую и отложенную выборку в пропорции 80/20\n",
    "3. Составьте [`Pipeline`](http://scikit-learn.org/stable/modules/generated/sklearn.pipeline.Pipeline.html), состоящий из `CountVectorizer()` и SVM с линейным ядром\n",
    "4. Исследуйте, как влияют размер n-грамм и величина штрафа `C` на предсказательную силу модели. Мера качества - accuracy."
   ]
  },
  {
   "cell_type": "code",
   "execution_count": 36,
   "metadata": {
    "collapsed": true
   },
   "outputs": [],
   "source": [
    "from sklearn.svm import SVC\n",
    "from sklearn.model_selection import train_test_split\n",
    "from sklearn.pipeline import Pipeline\n",
    "from sklearn.feature_extraction.text import CountVectorizer\n",
    "from sklearn.metrics import accuracy_score\n",
    "RND_SEED = 123"
   ]
  },
  {
   "cell_type": "code",
   "execution_count": 37,
   "metadata": {
    "collapsed": true
   },
   "outputs": [],
   "source": [
    "X_train,X_test,y_train,y_test = train_test_split(df_lang['word'],df_lang['label'],test_size = 0.2, random_state=RND_SEED)\n",
    "C_p = np.logspace(-3,1.5,9)\n",
    "N_gramms = np.linspace(1,3,3)\n",
    "result_q = 0"
   ]
  },
  {
   "cell_type": "code",
   "execution_count": 38,
   "metadata": {},
   "outputs": [
    {
     "data": {
      "text/plain": [
       "array([  1.00000000e-03,   3.65174127e-03,   1.33352143e-02,\n",
       "         4.86967525e-02,   1.77827941e-01,   6.49381632e-01,\n",
       "         2.37137371e+00,   8.65964323e+00,   3.16227766e+01])"
      ]
     },
     "execution_count": 38,
     "metadata": {},
     "output_type": "execute_result"
    }
   ],
   "source": [
    "C_p"
   ]
  },
  {
   "cell_type": "code",
   "execution_count": 40,
   "metadata": {
    "collapsed": true
   },
   "outputs": [],
   "source": [
    "qul_1 = []\n",
    "qul_2 = []\n",
    "qul_3 = []\n",
    "\n",
    "for i in (1, 2, 3):\n",
    "    for j in C_p:\n",
    "        svc = SVC(C = j,kernel='linear')\n",
    "        CV = CountVectorizer(analyzer='char',ngram_range=(i,i))\n",
    "        Pipe = Pipeline([('Count_Vect',CV),('SVM',svc)])\n",
    "        Pipe.fit(X_train, y_train)\n",
    "        y_hat = Pipe.predict(X_test)\n",
    "        mistake_q = accuracy_score(y_hat,y_test)\n",
    "        if mistake_q > result_q:\n",
    "            C_p_best = j\n",
    "            result_q = mistake_q\n",
    "            n_gr = i\n",
    "\n",
    "        if i==1:\n",
    "            qul_1.append(mistake_q)\n",
    "        if i==2:\n",
    "            qul_2.append(mistake_q)\n",
    "        if i==3:\n",
    "            qul_3.append(mistake_q)\n",
    "    "
   ]
  },
  {
   "cell_type": "code",
   "execution_count": 41,
   "metadata": {},
   "outputs": [
    {
     "data": {
      "text/plain": [
       "<function matplotlib.pyplot.semilogx>"
      ]
     },
     "execution_count": 41,
     "metadata": {},
     "output_type": "execute_result"
    },
    {
     "data": {
      "image/png": "[encoded data removed]",
      "text/plain": [
       "<matplotlib.figure.Figure at 0x8fff826d30>"
      ]
     },
     "metadata": {},
     "output_type": "display_data"
    }
   ],
   "source": [
    "plt.plot(C_p,qul_1)\n",
    "plt.title('For 1_gramm')\n",
    "plt.xlabel('C')\n",
    "plt.ylabel('accuracy_score')\n",
    "plt.semilogx"
   ]
  },
  {
   "cell_type": "code",
   "execution_count": 42,
   "metadata": {},
   "outputs": [
    {
     "data": {
      "text/plain": [
       "<function matplotlib.pyplot.semilogx>"
      ]
     },
     "execution_count": 42,
     "metadata": {},
     "output_type": "execute_result"
    },
    {
     "data": {
      "image/png": "[encoded data removed]",
      "text/plain": [
       "<matplotlib.figure.Figure at 0x8fff826b38>"
      ]
     },
     "metadata": {},
     "output_type": "display_data"
    }
   ],
   "source": [
    "plt.plot(C_p,qul_2)\n",
    "plt.title('For 2_gramm')\n",
    "plt.xlabel('C')\n",
    "plt.ylabel('accuracy_score')\n",
    "plt.semilogx"
   ]
  },
  {
   "cell_type": "code",
   "execution_count": 43,
   "metadata": {},
   "outputs": [
    {
     "data": {
      "text/plain": [
       "<function matplotlib.pyplot.semilogx>"
      ]
     },
     "execution_count": 43,
     "metadata": {},
     "output_type": "execute_result"
    },
    {
     "data": {
      "image/png": "[encoded data removed]",
      "text/plain": [
       "<matplotlib.figure.Figure at 0x8fff9d48d0>"
      ]
     },
     "metadata": {},
     "output_type": "display_data"
    }
   ],
   "source": [
    "plt.plot(C_p,qul_3)\n",
    "plt.title('For 3_gramm')\n",
    "plt.xlabel('C')\n",
    "plt.ylabel('accuracy_score')\n",
    "plt.semilogx"
   ]
  },
  {
   "cell_type": "markdown",
   "metadata": {},
   "source": [
    "## Подход с пользовательским ядром\n",
    "### Подготовка данных (1 балла)\n",
    "\n",
    "Особенностью пользовательского ядра в sklean.SVC является то, что на вход оно может принимать на вход **только** вектора чисел.<br/>\n",
    "В нашем случае это будут индексы соответствующих слов из корпуса. То есть вместо вектора ['treat', 'celebrit', 'prince', ...] на вход в ядро подается вектор из индексов [9209, 11145, 7735, ...] с помощью которых вы будете находить сами слова.\n",
    "\n",
    "Прежде чем мы начнем строить ядро, надо подготовить данные. Для этого:\n",
    "1. Задайте переменную RND_SEED, которая будет использоваться в любых генераторах случайных чисел в вашем коде (обычно параметр \"random_seed\")\n",
    "2. Случайным образом перемешайте и заново проиндексируйте таблицу, полученную выше (используйте методы `df.sample()` и `df.reset_index()`)\n",
    "3. Ядро может вычисляться достаточно долго, поэтому можете урезать таблицу, но оставить в ней не менее 1000 слов.\n",
    "4. Разбейте данные на обучающую и контрольную выборку в пропорции 80/20\n",
    "\n",
    "В результате вы должны получить вектор-столбец `X_train`, `X_test` с **индексами** слов и векторы `y_train`, `y_test` с метками классов."
   ]
  },
  {
   "cell_type": "code",
   "execution_count": null,
   "metadata": {
    "collapsed": true
   },
   "outputs": [],
   "source": []
  },
  {
   "cell_type": "markdown",
   "metadata": {},
   "source": [
    "**вследствие того, что все работало крайне медленно, я решил пойти немного другим путем и вместо того, чтоб использовать индексы, чтобы находить слова, я решил работать напрямую с ними, заранее вычислив матрицу для ядра**"
   ]
  },
  {
   "cell_type": "code",
   "execution_count": 44,
   "metadata": {
    "collapsed": true
   },
   "outputs": [],
   "source": [
    "RND_SEED = 123\n",
    "df = df_lang.sample(n=df_lang.shape[0])\n",
    "df = df.reset_index()\n",
    "df.index = df['index']\n",
    "X_train,X_test,y_train,y_test = train_test_split(df['word'],df['label'],test_size = 0.2)\n",
    "X_train, X_test, y_train, y_test = list(X_train), list(X_test), np.array(y_train), np.array(y_test)"
   ]
  },
  {
   "cell_type": "markdown",
   "metadata": {},
   "source": [
    "### Расчет ядра (2 балла)\n",
    "\n",
    "Теперь напишем собственное ядро для классификации строк. Для сравнения строк будем использовать [расстояние Левенштейна](https://ru.wikipedia.org/wiki/Расстояние_Левенштейна). Реализацию этого расстояния можно получить одним из двух способов:\n",
    "* скопировать функцию wfi_levenshtein из файла [pylev.py](https://github.com/toastdriven/pylev/blob/master/pylev.py)\n",
    "* поставить пакет [editdistance](https://pypi.python.org/pypi/editdistance) (будет работать быстрее, чем предыдущая реализация, но могут возникнуть проблемы с установкой)\n",
    "\n",
    "Ядро для сравнения строк должно принимать максимальное значение, когда слова одинаковы, и минимальное, когда очень отличаются. Это противоположно свойствам расстояния Левенштейна: оно равно 0, когда слова одинаковы, и максимально, когда слова разные. Поэтому подставьте значение расстояния Левенштейна в какое-нибудь ядро, зависящее от расстояния между объектами (например, гауссовское).\n",
    "\n",
    "Функция, реализующая расчет ядра должна принимать две матрицы $U$ и $V$ с признаковым описанием объектов (во время обучения они обе относятся к обучающей выборке, а во время применения - одна матрица относится к обучающей выборке, а другая к контрольной).\n",
    "Функция должна возвращать матрицу значений ядра для всех объектов попарно: $G_{ij} = K(U_i, V_j)$. Здесь $U_i$ — i-ый объект выборки $U$, а $V_j$ — j-ый объект выборки $V$.\n",
    "\n",
    "Сделайте следующее:\n",
    "1. Напишите функцию *string_kernel(U, V)*, расчитывающую матрицу ядра $G_{ij}$\n",
    "2. Визуализируйте матрицу только для тренировочной выборки (функция plt.imshow()).\n"
   ]
  },
  {
   "cell_type": "code",
   "execution_count": 45,
   "metadata": {
    "collapsed": true
   },
   "outputs": [],
   "source": [
    "def wfi_levenshtein(string_1, string_2):\n",
    "    if string_1 == string_2:\n",
    "        return 0\n",
    "    len_1 = len(string_1)\n",
    "    len_2 = len(string_2)\n",
    "    if len_1 == 0:\n",
    "        return len_2\n",
    "    if len_2 == 0:\n",
    "        return len_1\n",
    "    if len_1 > len_2:\n",
    "        string_2, string_1 = string_1, string_2\n",
    "        len_2, len_1 = len_1, len_2\n",
    "    d0 = [i for i in range(len_2 + 1)]\n",
    "    d1 = [j for j in range(len_2 + 1)]\n",
    "    for i in range(len_1):\n",
    "        d1[0] = i + 1\n",
    "        for j in range(len_2):\n",
    "            cost = d0[j]\n",
    "            if string_1[i] != string_2[j]:\n",
    "                # substitution\n",
    "                cost += 1\n",
    "                # insertion\n",
    "                x_cost = d1[j] + 1\n",
    "                if x_cost < cost:\n",
    "                    cost = x_cost\n",
    "                # deletion\n",
    "                y_cost = d0[j + 1] + 1\n",
    "                if y_cost < cost:\n",
    "                    cost = y_cost\n",
    "            d1[j + 1] = cost\n",
    "        d0, d1 = d1, d0\n",
    "    return d0[-1]"
   ]
  },
  {
   "cell_type": "code",
   "execution_count": 46,
   "metadata": {
    "collapsed": true
   },
   "outputs": [],
   "source": [
    "def string_kernel(U,V):\n",
    "    \n",
    "    G = np.zeros((len(U),len(V)))\n",
    "\n",
    "    for i in (range(len(U))):\n",
    "        for j in range(len(V)):\n",
    "            G[i][j] = np.exp(-(wfi_levenshtein(U[i],V[j]))**2)\n",
    "    return G"
   ]
  },
  {
   "cell_type": "code",
   "execution_count": 47,
   "metadata": {
    "collapsed": true
   },
   "outputs": [],
   "source": [
    "kernel_train = string_kernel(X_train[:6500], X_train[:6500])\n",
    "kernel_test = string_kernel(X_test[:1500], X_train[:6500])"
   ]
  },
  {
   "cell_type": "code",
   "execution_count": 48,
   "metadata": {},
   "outputs": [
    {
     "data": {
      "text/plain": [
       "<matplotlib.image.AxesImage at 0x8fffb8f4e0>"
      ]
     },
     "execution_count": 48,
     "metadata": {},
     "output_type": "execute_result"
    },
    {
     "data": {
      "image/png": "[encoded data removed]",
      "text/plain": [
       "<matplotlib.figure.Figure at 0x8fffa42d30>"
      ]
     },
     "metadata": {},
     "output_type": "display_data"
    }
   ],
   "source": [
    "plt.imshow(kernel_train)"
   ]
  },
  {
   "cell_type": "markdown",
   "metadata": {},
   "source": [
    "### Оценка качества (1 балл)\n",
    "\n",
    "Обучите метод опорных векторов с различными значениями параметра штрафа $C$.<br/>\n",
    "Для каждого значения выведите accuracy на обучащей и контрольной выборке.\n",
    "\n",
    "Постарайтесь достичь качества в 70% на тестовой выборке. Для улучшения качества можно увеличить размер тренировочной выборки. Но тогда обучение будет происходить дольше."
   ]
  },
  {
   "cell_type": "code",
   "execution_count": 49,
   "metadata": {
    "collapsed": true
   },
   "outputs": [],
   "source": [
    "C_last = np.logspace(-3, 3, 10)"
   ]
  },
  {
   "cell_type": "code",
   "execution_count": 50,
   "metadata": {
    "collapsed": true
   },
   "outputs": [],
   "source": [
    "accuracy_train = []\n",
    "accuracy_test = []\n",
    "for i in C_last:\n",
    "    svc_lev = SVC(kernel='precomputed',C = i)\n",
    "    svc_lev.fit(kernel_train, y_train[:6500])\n",
    "    y_hat_train = svc_lev.predict(kernel_train)\n",
    "    accuracy_train.append(accuracy_score(y_hat_train, y_train[:6500]))\n",
    "    y_hat_test = svc_lev.predict(kernel_test)\n",
    "    accuracy_test.append(accuracy_score(y_hat_test,y_test[:1500]))"
   ]
  },
  {
   "cell_type": "code",
   "execution_count": 51,
   "metadata": {},
   "outputs": [
    {
     "data": {
      "text/plain": [
       "[0.57333333333333336,\n",
       " 0.57333333333333336,\n",
       " 0.68066666666666664,\n",
       " 0.75600000000000001,\n",
       " 0.85933333333333328,\n",
       " 0.89533333333333331,\n",
       " 0.89666666666666661,\n",
       " 0.89666666666666661,\n",
       " 0.89666666666666661,\n",
       " 0.89666666666666661]"
      ]
     },
     "execution_count": 51,
     "metadata": {},
     "output_type": "execute_result"
    }
   ],
   "source": [
    "accuracy_test"
   ]
  },
  {
   "cell_type": "code",
   "execution_count": 52,
   "metadata": {},
   "outputs": [
    {
     "data": {
      "text/plain": [
       "0.89666666666666661"
      ]
     },
     "execution_count": 52,
     "metadata": {},
     "output_type": "execute_result"
    }
   ],
   "source": [
    "max(accuracy_test)"
   ]
  },
  {
   "cell_type": "code",
   "execution_count": 53,
   "metadata": {},
   "outputs": [
    {
     "data": {
      "text/plain": [
       "[0.54830769230769227,\n",
       " 0.54830769230769227,\n",
       " 0.65923076923076918,\n",
       " 0.75938461538461544,\n",
       " 0.90892307692307694,\n",
       " 0.98661538461538456,\n",
       " 0.98676923076923073,\n",
       " 0.98676923076923073,\n",
       " 0.98676923076923073,\n",
       " 0.98676923076923073]"
      ]
     },
     "execution_count": 53,
     "metadata": {},
     "output_type": "execute_result"
    }
   ],
   "source": [
    "accuracy_train"
   ]
  },
  {
   "cell_type": "code",
   "execution_count": 54,
   "metadata": {},
   "outputs": [
    {
     "data": {
      "text/plain": [
       "0.98676923076923073"
      ]
     },
     "execution_count": 54,
     "metadata": {},
     "output_type": "execute_result"
    }
   ],
   "source": [
    "max(accuracy_train)"
   ]
  }
 ],
 "metadata": {
  "anaconda-cloud": {},
  "kernelspec": {
   "display_name": "Python 3",
   "language": "python",
   "name": "python3"
  },
  "language_info": {
   "codemirror_mode": {
    "name": "ipython",
    "version": 3
   },
   "file_extension": ".py",
   "mimetype": "text/x-python",
   "name": "python",
   "nbconvert_exporter": "python",
   "pygments_lexer": "ipython3",
   "version": "3.6.2"
  },
  "nav_menu": {},
  "toc": {
   "colors": {
    "hover_highlight": "#DAA520",
    "navigate_num": "#000000",
    "navigate_text": "#333333",
    "running_highlight": "#FF0000",
    "selected_highlight": "#FFD700",
    "sidebar_border": "#EEEEEE",
    "wrapper_background": "#FFFFFF"
   },
   "moveMenuLeft": true,
   "nav_menu": {
    "height": "217px",
    "width": "253px"
   },
   "navigate_menu": true,
   "number_sections": false,
   "sideBar": true,
   "threshold": 4,
   "toc_cell": false,
   "toc_section_display": "block",
   "toc_window_display": true,
   "widenNotebook": false
  }
 },
 "nbformat": 4,
 "nbformat_minor": 1
}
