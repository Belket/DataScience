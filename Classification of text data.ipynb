{
 "cells": [
  {
   "cell_type": "markdown",
   "metadata": {},
   "source": [
    "\n",
    "## Классификация текстовых данных"
   ]
  },
  {
   "cell_type": "markdown",
   "metadata": {},
   "source": [
    "<p>Чтобы узнать свой вариант, введите Вашу фамилию на русском языке в соответвующее поле ниже и запустите ячейку:</p>"
   ]
  },
  {
   "cell_type": "markdown",
   "metadata": {},
   "source": [
    "\n",
    "* Набор рецензий на фильмы (reviews) - <b>positive/negative</b> - <a href=\"http://www.cs.cornell.edu/people/pabo/movie-review-data/\">источник</a> - файл c данными: <b>data/reviews.tsv</b></li>\n",
    "</ol>"
   ]
  },
  {
   "cell_type": "code",
   "execution_count": 2,
   "metadata": {
    "collapsed": true
   },
   "outputs": [],
   "source": [
    "import numpy as np\n",
    "import pandas as pd\n",
    "from sklearn.model_selection import train_test_split\n",
    "from sklearn.metrics import accuracy_score\n",
    "from sklearn.feature_extraction.text import TfidfVectorizer\n",
    "from sklearn.neighbors import KNeighborsClassifier\n",
    "from sklearn.linear_model import LogisticRegression\n",
    "from sklearn.naive_bayes import MultinomialNB\n",
    "import timeit"
   ]
  },
  {
   "cell_type": "markdown",
   "metadata": {},
   "source": [
    "## Задача 1\n",
    "#### Классификация текстовых сообщений (2 балла)"
   ]
  },
  {
   "cell_type": "markdown",
   "metadata": {},
   "source": [
    "<ol>\n",
    "    <li>Загрузите исходные данные</li>\n",
    "    <li>Разбейте загруженные данные на обучающее (train) и тестовое подможества (test)</li>\n",
    "    <li>Переведите текстовые данные в векторный вид. Для этого воcпользуйтесь средствами sklearn для конвертации текста в векторы TF-IDF (настроить на обучающем подмножестве, n-gram=1, слова в нижний регистр)</li>\n",
    "    <li>Постройте на обучающем подмножестве следующие модели классификации:\n",
    "        <ul>\n",
    "            <li>K-ближайших соседей ($n=5$)</li>\n",
    "            <li>Логистическая регрессия ($C=1$)</li>\n",
    "            <li>Мультиномиальный наивный Байес ($\\alpha=1$)</li> \n",
    "        </ul>\n",
    "    </li>\n",
    "    <li>Определите качество классификации (по доле правильных классификаций) на тестовом подмножестве</li>\n",
    "    <li>Определите с помощью timeit время обучения и предсказания (на тестовом подмножестве) </li>\n",
    "</ol>"
   ]
  },
  {
   "cell_type": "code",
   "execution_count": 3,
   "metadata": {
    "collapsed": true
   },
   "outputs": [],
   "source": [
    "# random_state = 123 # для всех объектов/методов/моделей\n",
    "# Параметры логистической регрессии\n",
    "# penalty = 'l2', fit_intercept=True, max_iter=100, C=1, solver='lbfgs', random_state=12345"
   ]
  },
  {
   "cell_type": "code",
   "execution_count": 4,
   "metadata": {
    "collapsed": true
   },
   "outputs": [],
   "source": [
    "df = pd.DataFrame.from_csv('reviews.tsv', index_col=None, header=None, sep='\\t')"
   ]
  },
  {
   "cell_type": "code",
   "execution_count": 5,
   "metadata": {
    "collapsed": true
   },
   "outputs": [],
   "source": [
    "df.columns = ['type', 'review']"
   ]
  },
  {
   "cell_type": "markdown",
   "metadata": {},
   "source": [
    "#### К-ближайших соседей "
   ]
  },
  {
   "cell_type": "code",
   "execution_count": 6,
   "metadata": {
    "collapsed": true
   },
   "outputs": [],
   "source": [
    "X_train, X_test, y_train, y_test = train_test_split(df['review'],df['type'],test_size=0.3 ,random_state=123)\n",
    "vectorize = TfidfVectorizer()"
   ]
  },
  {
   "cell_type": "code",
   "execution_count": 7,
   "metadata": {
    "collapsed": true
   },
   "outputs": [],
   "source": [
    "X_train = vectorize.fit_transform(X_train)\n",
    "X_test = vectorize.transform(X_test)"
   ]
  },
  {
   "cell_type": "code",
   "execution_count": 8,
   "metadata": {
    "collapsed": true
   },
   "outputs": [],
   "source": [
    "knn = KNeighborsClassifier(n_neighbors=5,weights='uniform',metric='minkowski')"
   ]
  },
  {
   "cell_type": "code",
   "execution_count": 9,
   "metadata": {},
   "outputs": [
    {
     "data": {
      "text/plain": [
       "KNeighborsClassifier(algorithm='auto', leaf_size=30, metric='minkowski',\n",
       "           metric_params=None, n_jobs=1, n_neighbors=5, p=2,\n",
       "           weights='uniform')"
      ]
     },
     "execution_count": 9,
     "metadata": {},
     "output_type": "execute_result"
    }
   ],
   "source": [
    "knn.fit(X_train,y_train)"
   ]
  },
  {
   "cell_type": "code",
   "execution_count": 10,
   "metadata": {},
   "outputs": [
    {
     "name": "stdout",
     "output_type": "stream",
     "text": [
      "1000 loops, best of 3: 768 µs per loop\n"
     ]
    }
   ],
   "source": [
    "%%timeit\n",
    "knn.fit(X_train,y_train)"
   ]
  },
  {
   "cell_type": "code",
   "execution_count": 11,
   "metadata": {
    "collapsed": true
   },
   "outputs": [],
   "source": [
    "y_hat_1 = knn.predict(X_test)"
   ]
  },
  {
   "cell_type": "code",
   "execution_count": 12,
   "metadata": {},
   "outputs": [
    {
     "name": "stdout",
     "output_type": "stream",
     "text": [
      "1 loop, best of 3: 859 ms per loop\n"
     ]
    }
   ],
   "source": [
    "%%timeit\n",
    "y_hat_1 = knn.predict(X_test)"
   ]
  },
  {
   "cell_type": "code",
   "execution_count": 13,
   "metadata": {},
   "outputs": [
    {
     "name": "stdout",
     "output_type": "stream",
     "text": [
      "Доля правильных предсказаний\n"
     ]
    },
    {
     "data": {
      "text/plain": [
       "0.71084713973116598"
      ]
     },
     "execution_count": 13,
     "metadata": {},
     "output_type": "execute_result"
    }
   ],
   "source": [
    "print(\"Доля правильных предсказаний\")\n",
    "accuracy_score(y_test,y_hat_1)"
   ]
  },
  {
   "cell_type": "markdown",
   "metadata": {},
   "source": [
    "#### Логистическая регрессия"
   ]
  },
  {
   "cell_type": "code",
   "execution_count": 14,
   "metadata": {
    "collapsed": true
   },
   "outputs": [],
   "source": [
    "log_reg = LogisticRegression(penalty='l2',fit_intercept=True, max_iter=100, C=1, solver=\"lbfgs\", random_state=12345)"
   ]
  },
  {
   "cell_type": "code",
   "execution_count": 15,
   "metadata": {},
   "outputs": [
    {
     "data": {
      "text/plain": [
       "LogisticRegression(C=1, class_weight=None, dual=False, fit_intercept=True,\n",
       "          intercept_scaling=1, max_iter=100, multi_class='ovr', n_jobs=1,\n",
       "          penalty='l2', random_state=12345, solver='lbfgs', tol=0.0001,\n",
       "          verbose=0, warm_start=False)"
      ]
     },
     "execution_count": 15,
     "metadata": {},
     "output_type": "execute_result"
    }
   ],
   "source": [
    "log_reg.fit(X_train,y_train)"
   ]
  },
  {
   "cell_type": "code",
   "execution_count": 16,
   "metadata": {},
   "outputs": [
    {
     "name": "stdout",
     "output_type": "stream",
     "text": [
      "1 loop, best of 3: 191 ms per loop\n"
     ]
    }
   ],
   "source": [
    "%%timeit\n",
    "log_reg.fit(X_train,y_train)"
   ]
  },
  {
   "cell_type": "code",
   "execution_count": 17,
   "metadata": {
    "collapsed": true
   },
   "outputs": [],
   "source": [
    "y_hat_2 = log_reg.predict(X_test)"
   ]
  },
  {
   "cell_type": "code",
   "execution_count": 18,
   "metadata": {},
   "outputs": [
    {
     "name": "stdout",
     "output_type": "stream",
     "text": [
      "10000 loops, best of 3: 154 µs per loop\n"
     ]
    }
   ],
   "source": [
    "%%timeit \n",
    "y_hat_2 = log_reg.predict(X_test)"
   ]
  },
  {
   "cell_type": "code",
   "execution_count": 19,
   "metadata": {},
   "outputs": [
    {
     "data": {
      "text/plain": [
       "0.76367614879649892"
      ]
     },
     "execution_count": 19,
     "metadata": {},
     "output_type": "execute_result"
    }
   ],
   "source": [
    "accuracy_score(y_test,y_hat_2)"
   ]
  },
  {
   "cell_type": "markdown",
   "metadata": {},
   "source": [
    "#### Мультиномиальный наивный Байес"
   ]
  },
  {
   "cell_type": "code",
   "execution_count": 20,
   "metadata": {
    "collapsed": true
   },
   "outputs": [],
   "source": [
    "mnb = MultinomialNB()"
   ]
  },
  {
   "cell_type": "code",
   "execution_count": 21,
   "metadata": {},
   "outputs": [
    {
     "data": {
      "text/plain": [
       "MultinomialNB(alpha=1.0, class_prior=None, fit_prior=True)"
      ]
     },
     "execution_count": 21,
     "metadata": {},
     "output_type": "execute_result"
    }
   ],
   "source": [
    "mnb.fit(X_train,y_train)"
   ]
  },
  {
   "cell_type": "code",
   "execution_count": 22,
   "metadata": {},
   "outputs": [
    {
     "name": "stdout",
     "output_type": "stream",
     "text": [
      "100 loops, best of 3: 2.51 ms per loop\n"
     ]
    }
   ],
   "source": [
    "%%timeit\n",
    "mnb.fit(X_train,y_train)"
   ]
  },
  {
   "cell_type": "code",
   "execution_count": 23,
   "metadata": {
    "collapsed": true
   },
   "outputs": [],
   "source": [
    "y_hat_3 = mnb.predict(X_test)"
   ]
  },
  {
   "cell_type": "code",
   "execution_count": 24,
   "metadata": {},
   "outputs": [
    {
     "name": "stdout",
     "output_type": "stream",
     "text": [
      "1000 loops, best of 3: 418 µs per loop\n"
     ]
    }
   ],
   "source": [
    "%%timeit\n",
    "y_hat_3 = mnb.predict(X_test)"
   ]
  },
  {
   "cell_type": "code",
   "execution_count": 25,
   "metadata": {},
   "outputs": [
    {
     "name": "stdout",
     "output_type": "stream",
     "text": [
      "Доля правильных предсказаний\n"
     ]
    },
    {
     "data": {
      "text/plain": [
       "0.78211941231634885"
      ]
     },
     "execution_count": 25,
     "metadata": {},
     "output_type": "execute_result"
    }
   ],
   "source": [
    "print(\"Доля правильных предсказаний\")\n",
    "accuracy_score(y_test,y_hat_3)"
   ]
  },
  {
   "cell_type": "markdown",
   "metadata": {},
   "source": [
    "## Задача 2.\n",
    "#### Применение k-folds (3 балла)"
   ]
  },
  {
   "cell_type": "markdown",
   "metadata": {},
   "source": [
    "<p>Повторите решение задачи 1, но с ипользованием k-folds (k=4) для разделения исходных данных, обучения и тестирования.</p>"
   ]
  },
  {
   "cell_type": "code",
   "execution_count": 26,
   "metadata": {
    "collapsed": true
   },
   "outputs": [],
   "source": [
    "from sklearn.feature_extraction.text import TfidfVectorizer\n",
    "from sklearn.model_selection import KFold\n"
   ]
  },
  {
   "cell_type": "code",
   "execution_count": 27,
   "metadata": {
    "collapsed": true
   },
   "outputs": [],
   "source": [
    "kf = KFold(n_splits=4, shuffle=True, random_state=123)"
   ]
  },
  {
   "cell_type": "code",
   "execution_count": 28,
   "metadata": {
    "collapsed": true
   },
   "outputs": [],
   "source": [
    "scores = {'knn':[], 'log_reg':[], 'mnb':[]}\n",
    "for train_ind, test_ind in kf.split(df['review']):\n",
    "    vectorizer = TfidfVectorizer()\n",
    "    X_train = vectorizer.fit_transform(df['review'][train_ind])\n",
    "    X_test = vectorizer.transform(df['review'][test_ind])\n",
    "    y_train = df['type'][train_ind]\n",
    "    y_test = df['type'][test_ind]\n",
    "    \n",
    "    knn = KNeighborsClassifier()\n",
    "    knn.fit(X_train, y_train)\n",
    "    y_hat_knn = knn.predict(X_test)\n",
    "    scores['knn'].append(accuracy_score(y_test,y_hat_knn))\n",
    "    \n",
    "    \n",
    "    log_reg = LogisticRegression(penalty = 'l2', fit_intercept=True, max_iter=100, C=1, solver=\"lbfgs\", random_state=12345)\n",
    "    log_reg.fit(X_train,y_train)\n",
    "    y_hat_log_reg = log_reg.predict(X_test)\n",
    "    scores['log_reg'].append(accuracy_score(y_test, y_hat_log_reg))\n",
    "    \n",
    "\n",
    "    mnb = MultinomialNB().fit(X_train, y_train)\n",
    "    mnb.fit(X_train, y_train)\n",
    "    y_hat_mnb = mnb.predict(X_test)\n",
    "    scores['mnb'].append(accuracy_score(y_test,y_hat_mnb))\n",
    "    "
   ]
  },
  {
   "cell_type": "code",
   "execution_count": 29,
   "metadata": {},
   "outputs": [
    {
     "data": {
      "text/plain": [
       "{'knn': [0.71605401350337583,\n",
       "  0.70142535633908476,\n",
       "  0.69943714821763603,\n",
       "  0.70919324577861165],\n",
       " 'log_reg': [0.77156789197299325,\n",
       "  0.75506376594148539,\n",
       "  0.74596622889305819,\n",
       "  0.7639774859287054],\n",
       " 'mnb': [0.78844711177794446,\n",
       "  0.76856714178544638,\n",
       "  0.77786116322701693,\n",
       "  0.78686679174484053]}"
      ]
     },
     "execution_count": 29,
     "metadata": {},
     "output_type": "execute_result"
    }
   ],
   "source": [
    "scores"
   ]
  },
  {
   "cell_type": "code",
   "execution_count": 35,
   "metadata": {},
   "outputs": [
    {
     "name": "stdout",
     "output_type": "stream",
     "text": [
      "knn 0.70652744096\n",
      "log_reg 0.759143843184\n",
      "mnb 0.780435552134\n"
     ]
    }
   ],
   "source": [
    "for key in scores.keys():\n",
    "        print(key,np.mean(scores[key]))\n",
    "    "
   ]
  },
  {
   "cell_type": "markdown",
   "metadata": {},
   "source": [
    "## Задача 3.\n",
    "#### Выбор модели (5 баллов)\n"
   ]
  },
  {
   "cell_type": "markdown",
   "metadata": {},
   "source": [
    "<p style=\"padding-left:15px;\">1. Используя данные из задачи 1, разбейте обучающее подмножество (train) с использованием k-folds (k=4) <br>\n",
    "2. Обучите и протестируйте на разбитом обучающем подмножестве классификаторы со следующими параметрами: </p>"
   ]
  },
  {
   "cell_type": "code",
   "execution_count": 36,
   "metadata": {
    "collapsed": true
   },
   "outputs": [],
   "source": [
    "from sklearn.metrics import make_scorer"
   ]
  },
  {
   "cell_type": "code",
   "execution_count": 37,
   "metadata": {
    "collapsed": true
   },
   "outputs": [],
   "source": [
    "kf = KFold(n_splits=4, shuffle=True, random_state=123)"
   ]
  },
  {
   "cell_type": "markdown",
   "metadata": {},
   "source": [
    "#### K-ближайших соседей"
   ]
  },
  {
   "cell_type": "code",
   "execution_count": 38,
   "metadata": {
    "collapsed": true
   },
   "outputs": [],
   "source": [
    "ns = np.arange(1, 150, 20) # количество соседей"
   ]
  },
  {
   "cell_type": "code",
   "execution_count": 39,
   "metadata": {
    "collapsed": true
   },
   "outputs": [],
   "source": [
    "result_knn = {}\n",
    "for i in ns:\n",
    "    scores_knn = []    \n",
    "    for train_ind, test_ind in kf.split(df['review']):\n",
    "        knn = KNeighborsClassifier(n_neighbors=i)\n",
    "        vectorizer = TfidfVectorizer()\n",
    "        X_train = vectorizer.fit_transform(df['review'][train_ind])\n",
    "        X_test = vectorizer.transform(df['review'][test_ind])\n",
    "        y_train = df['type'][train_ind]\n",
    "        y_test = df['type'][test_ind]    \n",
    "        knn.fit(X_train, y_train) \n",
    "        y_hat_knn = knn.predict(X_test)       \n",
    "        scores_knn.append(accuracy_score(y_test,y_hat_knn))\n",
    "    result_knn.update({i:scores_knn})"
   ]
  },
  {
   "cell_type": "code",
   "execution_count": 40,
   "metadata": {},
   "outputs": [
    {
     "name": "stdout",
     "output_type": "stream",
     "text": [
      "{141: [0.74793698424606148, 0.73630907726931738, 0.73095684803001881, 0.76810506566604131], 1: [0.66954238559639911, 0.65903975993998498, 0.65590994371482181, 0.67054409005628512], 121: [0.74568642160540133, 0.74718679669917476, 0.72682926829268291, 0.76622889305816133], 21: [0.74943735933983491, 0.71942985746436605, 0.72870544090056288, 0.74746716697936211], 81: [0.75356339084771196, 0.74643660915228804, 0.72945590994371479, 0.76547842401500943], 41: [0.74756189047261812, 0.73668417104276074, 0.73733583489681054, 0.7639774859287054], 61: [0.75206301575393852, 0.74231057764441111, 0.73771106941838649, 0.76660412757973728], 101: [0.74606151537884469, 0.74231057764441111, 0.72645403377110696, 0.7639774859287054]}\n"
     ]
    }
   ],
   "source": [
    "print(result_knn)"
   ]
  },
  {
   "cell_type": "code",
   "execution_count": 41,
   "metadata": {
    "collapsed": true
   },
   "outputs": [],
   "source": [
    "from collections import OrderedDict"
   ]
  },
  {
   "cell_type": "code",
   "execution_count": 42,
   "metadata": {},
   "outputs": [
    {
     "name": "stdout",
     "output_type": "stream",
     "text": [
      "OrderedDict([(1, [0.66954238559639911, 0.65903975993998498, 0.65590994371482181, 0.67054409005628512]), (21, [0.74943735933983491, 0.71942985746436605, 0.72870544090056288, 0.74746716697936211]), (41, [0.74756189047261812, 0.73668417104276074, 0.73733583489681054, 0.7639774859287054]), (61, [0.75206301575393852, 0.74231057764441111, 0.73771106941838649, 0.76660412757973728]), (81, [0.75356339084771196, 0.74643660915228804, 0.72945590994371479, 0.76547842401500943]), (101, [0.74606151537884469, 0.74231057764441111, 0.72645403377110696, 0.7639774859287054]), (121, [0.74568642160540133, 0.74718679669917476, 0.72682926829268291, 0.76622889305816133]), (141, [0.74793698424606148, 0.73630907726931738, 0.73095684803001881, 0.76810506566604131])])\n"
     ]
    }
   ],
   "source": [
    "knn_dict= {}\n",
    "knn_dict = OrderedDict(sorted(result_knn.items(), key=lambda t: t[0]))\n",
    "print(knn_dict)"
   ]
  },
  {
   "cell_type": "code",
   "execution_count": 43,
   "metadata": {},
   "outputs": [
    {
     "name": "stdout",
     "output_type": "stream",
     "text": [
      "Best parameter 61\n"
     ]
    }
   ],
   "source": [
    "means_knn_gr = [[np.mean(param) for param in knn_dict[key]] for key in knn_dict.keys()]\n",
    "means_knn = np.mean(means_knn_gr,axis=1)\n",
    "\n",
    "max_knn_1 = np.max(means_knn)\n",
    "\n",
    "for m in range(0,len(means_knn)):\n",
    "    if means_knn[m] == max_knn_1:\n",
    "        ind = m\n",
    "\n",
    "n = 0\n",
    "for key in knn_dict.keys():\n",
    "    if n == ind:\n",
    "        best_param_knn_1 = key\n",
    "        break\n",
    "    else:\n",
    "        n+=1\n",
    "           \n",
    "print(\"Best parameter\",best_param_knn_1)"
   ]
  },
  {
   "cell_type": "markdown",
   "metadata": {},
   "source": [
    "#### Логистическая регрессия"
   ]
  },
  {
   "cell_type": "code",
   "execution_count": 44,
   "metadata": {
    "collapsed": true
   },
   "outputs": [],
   "source": [
    "cs = np.logspace(-2, 10, 8, base=10) # параметр регуляризации"
   ]
  },
  {
   "cell_type": "code",
   "execution_count": 45,
   "metadata": {
    "collapsed": true
   },
   "outputs": [],
   "source": [
    "result_log = {}\n",
    "for i in cs:\n",
    "    scores_log = []    \n",
    "    for train_ind, test_ind in kf.split(df['review']):\n",
    "        log_reg = LogisticRegression(C = i,penalty = 'l2', fit_intercept=True, max_iter=100, solver='lbfgs', random_state=12345)\n",
    "        vectorizer = TfidfVectorizer()\n",
    "        X_train = vectorizer.fit_transform(df['review'][train_ind])\n",
    "        X_test = vectorizer.transform(df['review'][test_ind])\n",
    "        y_train = df['type'][train_ind]\n",
    "        y_test = df['type'][test_ind]    \n",
    "        log_reg.fit(X_train, y_train) \n",
    "        y_hat_log_reg = log_reg.predict(X_test)       \n",
    "        scores_log.append(accuracy_score(y_test,y_hat_log_reg))\n",
    "    result_log.update({i:scores_log})"
   ]
  },
  {
   "cell_type": "code",
   "execution_count": 46,
   "metadata": {},
   "outputs": [
    {
     "name": "stdout",
     "output_type": "stream",
     "text": [
      "{0.51794746792312096: [0.7603150787696924, 0.7441860465116279, 0.74333958724202631, 0.75797373358348963], 71968.567300115144: [0.75656414103525882, 0.74343585896474118, 0.73696060037523448, 0.76172607879924958], 193069772.88832456: [0.75993998499624904, 0.74343585896474118, 0.73996247654784242, 0.76247654784240149], 10000000000.0: [0.75393848462115531, 0.74193548387096775, 0.73808630393996244, 0.76060037523452162], 3727593.7203149381: [0.76331582895723926, 0.74193548387096775, 0.73508442776735461, 0.76285178236397744], 26.826957952797247: [0.77156789197299325, 0.75393848462115531, 0.74221388367729835, 0.77260787992495306], 0.01: [0.70667666916729177, 0.69092273068267063, 0.68855534709193245, 0.69380863039399621], 1389.4954943731361: [0.76069017254313576, 0.73930982745686424, 0.73621013133208257, 0.76172607879924958]}\n"
     ]
    }
   ],
   "source": [
    "print(result_log)"
   ]
  },
  {
   "cell_type": "code",
   "execution_count": 47,
   "metadata": {},
   "outputs": [
    {
     "name": "stdout",
     "output_type": "stream",
     "text": [
      "OrderedDict([(0.01, [0.70667666916729177, 0.69092273068267063, 0.68855534709193245, 0.69380863039399621]), (0.51794746792312096, [0.7603150787696924, 0.7441860465116279, 0.74333958724202631, 0.75797373358348963]), (26.826957952797247, [0.77156789197299325, 0.75393848462115531, 0.74221388367729835, 0.77260787992495306]), (1389.4954943731361, [0.76069017254313576, 0.73930982745686424, 0.73621013133208257, 0.76172607879924958]), (71968.567300115144, [0.75656414103525882, 0.74343585896474118, 0.73696060037523448, 0.76172607879924958]), (3727593.7203149381, [0.76331582895723926, 0.74193548387096775, 0.73508442776735461, 0.76285178236397744]), (193069772.88832456, [0.75993998499624904, 0.74343585896474118, 0.73996247654784242, 0.76247654784240149]), (10000000000.0, [0.75393848462115531, 0.74193548387096775, 0.73808630393996244, 0.76060037523452162])])\n"
     ]
    }
   ],
   "source": [
    "log_dict= {}\n",
    "log_dict = OrderedDict(sorted(result_log.items(), key=lambda t: t[0]))\n",
    "print(log_dict)"
   ]
  },
  {
   "cell_type": "code",
   "execution_count": 48,
   "metadata": {},
   "outputs": [
    {
     "name": "stdout",
     "output_type": "stream",
     "text": [
      "Best parameter 26.8269579528\n"
     ]
    }
   ],
   "source": [
    "means_log_gr = [[np.mean(param) for param in log_dict[key]] for key in log_dict.keys()]\n",
    "means_log = np.mean(means_log_gr,axis=1)\n",
    "\n",
    "max_log_1 = np.max(means_log)\n",
    "\n",
    "for m in range(0,len(means_log)):\n",
    "    if means_log[m] == max_log_1:\n",
    "        ind = m\n",
    "\n",
    "n = 0\n",
    "for key in log_dict.keys():\n",
    "    if n == ind:\n",
    "        best_param_log_1 = key\n",
    "        break\n",
    "    else:\n",
    "        n+=1\n",
    "           \n",
    "print(\"Best parameter\",best_param_log_1)"
   ]
  },
  {
   "cell_type": "markdown",
   "metadata": {},
   "source": [
    "#### Мультиномиальный наивный Байес"
   ]
  },
  {
   "cell_type": "code",
   "execution_count": 49,
   "metadata": {
    "collapsed": true
   },
   "outputs": [],
   "source": [
    "alphas = np.logspace(-4, 1, 8, base=10) # сглаживающий параметр"
   ]
  },
  {
   "cell_type": "code",
   "execution_count": 50,
   "metadata": {
    "collapsed": true
   },
   "outputs": [],
   "source": [
    "result_mnb = {}\n",
    "for k in alphas:\n",
    "    scores_mnb = []    \n",
    "    for train_ind, test_ind in kf.split(df['review']):\n",
    "        mnb = MultinomialNB(alpha = k)\n",
    "        vectorizer = TfidfVectorizer()\n",
    "        X_train = vectorizer.fit_transform(df['review'][train_ind])\n",
    "        X_test = vectorizer.transform(df['review'][test_ind])\n",
    "        y_train = df['type'][train_ind]\n",
    "        y_test = df['type'][test_ind]    \n",
    "        mnb.fit(X_train, y_train) \n",
    "        y_hat_mnb = mnb.predict(X_test)       \n",
    "        scores_mnb.append(accuracy_score(y_test,y_hat_mnb))\n",
    "    result_mnb.update({k:scores_mnb})"
   ]
  },
  {
   "cell_type": "code",
   "execution_count": 51,
   "metadata": {},
   "outputs": [
    {
     "name": "stdout",
     "output_type": "stream",
     "text": [
      "{0.071968567300115208: [0.74756189047261812, 0.74718679669917476, 0.76547842401500943, 0.75947467166979366], 0.37275937203149417: [0.77569392348087018, 0.76369092273068262, 0.77711069418386491, 0.775609756097561], 0.013894954943731374: [0.72730682670667668, 0.72843210802700675, 0.74521575984990618, 0.74183864915572229], 1.9306977288832496: [0.78957239309827454, 0.7629407351837959, 0.77260787992495306, 0.78761726078799255], 0.0001: [0.70892723180795203, 0.71230307576894225, 0.72345215759849901, 0.72795497185741087], 0.0026826957952797272: [0.71605401350337583, 0.71867966991747934, 0.7302063789868668, 0.73283302063789868], 10.0: [0.7764441110277569, 0.75168792198049517, 0.75647279549718571, 0.7722326454033771], 0.0005179474679231213: [0.70892723180795203, 0.71267816954238561, 0.72457786116322698, 0.72908067542213884]}\n"
     ]
    }
   ],
   "source": [
    "print(result_mnb)"
   ]
  },
  {
   "cell_type": "code",
   "execution_count": 52,
   "metadata": {},
   "outputs": [
    {
     "name": "stdout",
     "output_type": "stream",
     "text": [
      "OrderedDict([(0.0001, [0.70892723180795203, 0.71230307576894225, 0.72345215759849901, 0.72795497185741087]), (0.0005179474679231213, [0.70892723180795203, 0.71267816954238561, 0.72457786116322698, 0.72908067542213884]), (0.0026826957952797272, [0.71605401350337583, 0.71867966991747934, 0.7302063789868668, 0.73283302063789868]), (0.013894954943731374, [0.72730682670667668, 0.72843210802700675, 0.74521575984990618, 0.74183864915572229]), (0.071968567300115208, [0.74756189047261812, 0.74718679669917476, 0.76547842401500943, 0.75947467166979366]), (0.37275937203149417, [0.77569392348087018, 0.76369092273068262, 0.77711069418386491, 0.775609756097561]), (1.9306977288832496, [0.78957239309827454, 0.7629407351837959, 0.77260787992495306, 0.78761726078799255]), (10.0, [0.7764441110277569, 0.75168792198049517, 0.75647279549718571, 0.7722326454033771])])\n"
     ]
    }
   ],
   "source": [
    "mnb_dict= {}\n",
    "mnb_dict = OrderedDict(sorted(result_mnb.items(), key=lambda t: t[0]))\n",
    "print(mnb_dict)"
   ]
  },
  {
   "cell_type": "code",
   "execution_count": 53,
   "metadata": {},
   "outputs": [
    {
     "name": "stdout",
     "output_type": "stream",
     "text": [
      "Best parameter 1.93069772888\n"
     ]
    }
   ],
   "source": [
    "means_mnb_gr = [[np.mean(param) for param in mnb_dict[key]] for key in mnb_dict.keys()]\n",
    "means_mnb = np.mean(means_mnb_gr,axis=1)\n",
    "\n",
    "max_mnb_1 = np.max(means_mnb)\n",
    "\n",
    "for m in range(0,len(means_mnb)):\n",
    "    if means_mnb[m] == max_mnb_1:\n",
    "        ind = m\n",
    "\n",
    "n = 0\n",
    "for key in mnb_dict.keys():\n",
    "    if n == ind:\n",
    "        best_param_mnb_1 = key\n",
    "        break\n",
    "    else:\n",
    "        n+=1\n",
    "           \n",
    "print(\"Best parameter\",best_param_mnb_1)"
   ]
  },
  {
   "cell_type": "markdown",
   "metadata": {},
   "source": [
    "<p style=\"padding-left:15px;\">3. Постройте графики (параметры модели)-(доля правильных классификаций) при обучении и валидации <br>\n",
    "4. Выберите лучшую модель для каждого метода, используя значение качества классификации (использовать долю правильных классификаций)<br>\n",
    "5. Выбранные модели обучите на обучающем подмножестве (train) и протестируйте на тестовом (test). Определите время обучения и предсказания (см. задачу 1 п. 6)<br>\n",
    "6. Повторите шаги 2-4 для n-gram=2<br>\n",
    "7. Выведите итоговые данные по всем методам для лучших моделей (метод, n-gram, значение параметра модели, время обучения, время предсказания, доля правильных классификаций)<br>\n",
    "8. Сделайте выводы по полученным результатам (преимущества и недостатки методов)\n",
    "</p>"
   ]
  },
  {
   "cell_type": "code",
   "execution_count": 54,
   "metadata": {
    "collapsed": true
   },
   "outputs": [],
   "source": [
    "import matplotlib.pyplot as plt\n",
    "%matplotlib inline\n",
    "random_state = 123 # для всех объектов/методов/моделей"
   ]
  },
  {
   "cell_type": "markdown",
   "metadata": {
    "collapsed": true
   },
   "source": [
    "#### Построение графиков"
   ]
  },
  {
   "cell_type": "code",
   "execution_count": 55,
   "metadata": {},
   "outputs": [
    {
     "data": {
      "text/plain": [
       "<matplotlib.text.Text at 0x6cb3594c50>"
      ]
     },
     "execution_count": 55,
     "metadata": {},
     "output_type": "execute_result"
    },
    {
     "data": {
      "image/png": "[encoded data removed]",
      "text/plain": [
       "<matplotlib.figure.Figure at 0x6cb354b518>"
      ]
     },
     "metadata": {},
     "output_type": "display_data"
    }
   ],
   "source": [
    "plt.plot(ns,means_knn_gr)\n",
    "plt.ylabel('accuracy_score')\n",
    "plt.xlabel('knn')"
   ]
  },
  {
   "cell_type": "code",
   "execution_count": 56,
   "metadata": {},
   "outputs": [
    {
     "data": {
      "text/plain": [
       "<matplotlib.text.Text at 0x6cb359d828>"
      ]
     },
     "execution_count": 56,
     "metadata": {},
     "output_type": "execute_result"
    },
    {
     "data": {
      "image/png": "[encoded data removed]",
      "text/plain": [
       "<matplotlib.figure.Figure at 0x6cb58a0fd0>"
      ]
     },
     "metadata": {},
     "output_type": "display_data"
    }
   ],
   "source": [
    "plt.plot(cs,means_log_gr)\n",
    "plt.ylabel('accuracy_score')\n",
    "plt.xlabel('Log_reg')"
   ]
  },
  {
   "cell_type": "code",
   "execution_count": 57,
   "metadata": {},
   "outputs": [
    {
     "data": {
      "text/plain": [
       "<matplotlib.text.Text at 0x6cb2f95b00>"
      ]
     },
     "execution_count": 57,
     "metadata": {},
     "output_type": "execute_result"
    },
    {
     "data": {
      "image/png": "[encoded data removed]",
      "text/plain": [
       "<matplotlib.figure.Figure at 0x6cb2fcee80>"
      ]
     },
     "metadata": {},
     "output_type": "display_data"
    }
   ],
   "source": [
    "plt.plot(alphas,means_mnb_gr)\n",
    "plt.ylabel('accuracy_score')\n",
    "plt.xlabel('MNB')"
   ]
  },
  {
   "cell_type": "markdown",
   "metadata": {},
   "source": [
    "### Выбор луччшей модели\n",
    "##### 1) Для K-neighbors получаем лучшую модель при n_neighbors = 61\n",
    "##### 2) Для LogisticRegression получаем лучшую модель при C = 26.8269579528\n",
    "##### 3) Для MultinomialNB получаем лучшую модель при alpha = 1.93069772888\n"
   ]
  },
  {
   "cell_type": "markdown",
   "metadata": {},
   "source": [
    "### Обучим выбранные модели"
   ]
  },
  {
   "cell_type": "code",
   "execution_count": 58,
   "metadata": {
    "collapsed": true
   },
   "outputs": [],
   "source": [
    "X_train, X_test, y_train, y_test = train_test_split(df['review'],df['type'],test_size=0.3 ,random_state=123)\n",
    "vectorize = TfidfVectorizer()\n",
    "X_train = vectorize.fit_transform(X_train)\n",
    "X_test = vectorize.transform(X_test)\n",
    "knn = KNeighborsClassifier(n_neighbors=61)\n",
    "log_reg = LogisticRegression(C=26.8269579528)\n",
    "mnb = MultinomialNB(alpha=1.93069772888)"
   ]
  },
  {
   "cell_type": "code",
   "execution_count": 59,
   "metadata": {},
   "outputs": [
    {
     "name": "stdout",
     "output_type": "stream",
     "text": [
      "1000 loops, best of 3: 845 µs per loop\n"
     ]
    },
    {
     "data": {
      "text/plain": [
       "<TimeitResult : 1000 loops, best of 3: 845 µs per loop>"
      ]
     },
     "execution_count": 59,
     "metadata": {},
     "output_type": "execute_result"
    }
   ],
   "source": [
    "%%timeit -o\n",
    "knn.fit(X_train,y_train)"
   ]
  },
  {
   "cell_type": "code",
   "execution_count": 60,
   "metadata": {
    "collapsed": true
   },
   "outputs": [],
   "source": [
    "t_fit_knn_1 = _"
   ]
  },
  {
   "cell_type": "code",
   "execution_count": 61,
   "metadata": {},
   "outputs": [
    {
     "data": {
      "text/plain": [
       "KNeighborsClassifier(algorithm='auto', leaf_size=30, metric='minkowski',\n",
       "           metric_params=None, n_jobs=1, n_neighbors=61, p=2,\n",
       "           weights='uniform')"
      ]
     },
     "execution_count": 61,
     "metadata": {},
     "output_type": "execute_result"
    }
   ],
   "source": [
    "knn.fit(X_train,y_train)"
   ]
  },
  {
   "cell_type": "code",
   "execution_count": 62,
   "metadata": {},
   "outputs": [
    {
     "name": "stdout",
     "output_type": "stream",
     "text": [
      "10 loops, best of 3: 94.5 ms per loop\n"
     ]
    },
    {
     "data": {
      "text/plain": [
       "<TimeitResult : 10 loops, best of 3: 94.5 ms per loop>"
      ]
     },
     "execution_count": 62,
     "metadata": {},
     "output_type": "execute_result"
    }
   ],
   "source": [
    "%%timeit -o\n",
    "log_reg.fit(X_train,y_train)"
   ]
  },
  {
   "cell_type": "code",
   "execution_count": 63,
   "metadata": {
    "collapsed": true
   },
   "outputs": [],
   "source": [
    "t_fit_log_1 = _"
   ]
  },
  {
   "cell_type": "code",
   "execution_count": 64,
   "metadata": {},
   "outputs": [
    {
     "data": {
      "text/plain": [
       "LogisticRegression(C=26.8269579528, class_weight=None, dual=False,\n",
       "          fit_intercept=True, intercept_scaling=1, max_iter=100,\n",
       "          multi_class='ovr', n_jobs=1, penalty='l2', random_state=None,\n",
       "          solver='liblinear', tol=0.0001, verbose=0, warm_start=False)"
      ]
     },
     "execution_count": 64,
     "metadata": {},
     "output_type": "execute_result"
    }
   ],
   "source": [
    "log_reg.fit(X_train,y_train)"
   ]
  },
  {
   "cell_type": "code",
   "execution_count": 65,
   "metadata": {},
   "outputs": [
    {
     "name": "stdout",
     "output_type": "stream",
     "text": [
      "100 loops, best of 3: 2.54 ms per loop\n"
     ]
    },
    {
     "data": {
      "text/plain": [
       "<TimeitResult : 100 loops, best of 3: 2.54 ms per loop>"
      ]
     },
     "execution_count": 65,
     "metadata": {},
     "output_type": "execute_result"
    }
   ],
   "source": [
    "%%timeit -o\n",
    "mnb.fit(X_train,y_train)"
   ]
  },
  {
   "cell_type": "code",
   "execution_count": 66,
   "metadata": {
    "collapsed": true
   },
   "outputs": [],
   "source": [
    "t_fit_mnb_1 = _"
   ]
  },
  {
   "cell_type": "code",
   "execution_count": 67,
   "metadata": {},
   "outputs": [
    {
     "data": {
      "text/plain": [
       "MultinomialNB(alpha=1.93069772888, class_prior=None, fit_prior=True)"
      ]
     },
     "execution_count": 67,
     "metadata": {},
     "output_type": "execute_result"
    }
   ],
   "source": [
    "mnb.fit(X_train,y_train)"
   ]
  },
  {
   "cell_type": "code",
   "execution_count": 68,
   "metadata": {},
   "outputs": [
    {
     "name": "stdout",
     "output_type": "stream",
     "text": [
      "1 loop, best of 3: 929 ms per loop\n"
     ]
    },
    {
     "data": {
      "text/plain": [
       "<TimeitResult : 1 loop, best of 3: 929 ms per loop>"
      ]
     },
     "execution_count": 68,
     "metadata": {},
     "output_type": "execute_result"
    }
   ],
   "source": [
    "%%timeit -o\n",
    "y_hat_knn = knn.predict(X_test)"
   ]
  },
  {
   "cell_type": "code",
   "execution_count": 69,
   "metadata": {
    "collapsed": true
   },
   "outputs": [],
   "source": [
    "t_pred_knn_1 = _"
   ]
  },
  {
   "cell_type": "code",
   "execution_count": 70,
   "metadata": {
    "collapsed": true
   },
   "outputs": [],
   "source": [
    "y_hat_knn = knn.predict(X_test)"
   ]
  },
  {
   "cell_type": "code",
   "execution_count": 71,
   "metadata": {},
   "outputs": [
    {
     "name": "stdout",
     "output_type": "stream",
     "text": [
      "10000 loops, best of 3: 158 µs per loop\n"
     ]
    },
    {
     "data": {
      "text/plain": [
       "<TimeitResult : 10000 loops, best of 3: 158 µs per loop>"
      ]
     },
     "execution_count": 71,
     "metadata": {},
     "output_type": "execute_result"
    }
   ],
   "source": [
    "%%timeit -o\n",
    "y_hat_log = log_reg.predict(X_test)"
   ]
  },
  {
   "cell_type": "code",
   "execution_count": 72,
   "metadata": {
    "collapsed": true
   },
   "outputs": [],
   "source": [
    "t_pred_log_1 = _"
   ]
  },
  {
   "cell_type": "code",
   "execution_count": 73,
   "metadata": {
    "collapsed": true
   },
   "outputs": [],
   "source": [
    "y_hat_log = log_reg.predict(X_test)"
   ]
  },
  {
   "cell_type": "code",
   "execution_count": 74,
   "metadata": {},
   "outputs": [
    {
     "name": "stdout",
     "output_type": "stream",
     "text": [
      "1000 loops, best of 3: 435 µs per loop\n"
     ]
    },
    {
     "data": {
      "text/plain": [
       "<TimeitResult : 1000 loops, best of 3: 435 µs per loop>"
      ]
     },
     "execution_count": 74,
     "metadata": {},
     "output_type": "execute_result"
    }
   ],
   "source": [
    "%%timeit -o\n",
    "y_hat_mnb = mnb.predict(X_test)"
   ]
  },
  {
   "cell_type": "code",
   "execution_count": 75,
   "metadata": {
    "collapsed": true
   },
   "outputs": [],
   "source": [
    "t_pred_mnb_1 = _"
   ]
  },
  {
   "cell_type": "code",
   "execution_count": 76,
   "metadata": {
    "collapsed": true
   },
   "outputs": [],
   "source": [
    "y_pred_mnb = _"
   ]
  },
  {
   "cell_type": "code",
   "execution_count": 77,
   "metadata": {
    "collapsed": true
   },
   "outputs": [],
   "source": [
    "y_hat_mnb = mnb.predict(X_test)"
   ]
  },
  {
   "cell_type": "code",
   "execution_count": 78,
   "metadata": {},
   "outputs": [
    {
     "name": "stdout",
     "output_type": "stream",
     "text": [
      "knn 0.754298218193\n",
      "log_reg 0.768990309472\n",
      "MNB 0.778368240075\n"
     ]
    }
   ],
   "source": [
    "ac_knn_1 = accuracy_score(y_test,y_hat_knn)\n",
    "ac_log_1 = accuracy_score(y_test,y_hat_log)\n",
    "ac_mnb_1 = accuracy_score(y_test,y_hat_mnb)\n",
    "\n",
    "\n",
    "print(\"knn\",ac_knn_1)\n",
    "print(\"log_reg\",ac_log_1)\n",
    "print(\"MNB\",ac_mnb_1)\n"
   ]
  },
  {
   "cell_type": "markdown",
   "metadata": {},
   "source": [
    "#### Повторим пункты 2-4 для n-gramm = 2"
   ]
  },
  {
   "cell_type": "markdown",
   "metadata": {},
   "source": [
    "#### K-neighbors , n-gramm = 2"
   ]
  },
  {
   "cell_type": "code",
   "execution_count": 79,
   "metadata": {
    "collapsed": true
   },
   "outputs": [],
   "source": [
    "result_knn = {}\n",
    "for i in ns:\n",
    "    scores_knn = []    \n",
    "    for train_ind, test_ind in kf.split(df['review']):\n",
    "        knn = KNeighborsClassifier(n_neighbors=i)\n",
    "        vectorizer = TfidfVectorizer(ngram_range=(2,2))\n",
    "        X_train = vectorizer.fit_transform(df['review'][train_ind])\n",
    "        X_test = vectorizer.transform(df['review'][test_ind])\n",
    "        y_train = df['type'][train_ind]\n",
    "        y_test = df['type'][test_ind]    \n",
    "        knn.fit(X_train, y_train) \n",
    "        y_hat_knn = knn.predict(X_test)       \n",
    "        scores_knn.append(accuracy_score(y_test,y_hat_knn))\n",
    "    result_knn.update({i:scores_knn})"
   ]
  },
  {
   "cell_type": "code",
   "execution_count": 80,
   "metadata": {},
   "outputs": [
    {
     "name": "stdout",
     "output_type": "stream",
     "text": [
      "OrderedDict([(1, [0.5, 0.50750187546886727, 0.49943714821763602, 0.51294559099437154]), (21, [0.57276819204801199, 0.6552888222055514, 0.6303939962476548, 0.60525328330206374]), (41, [0.64666166541635406, 0.67666916729182292, 0.66266416510318948, 0.65403377110694183]), (61, [0.66316579144786192, 0.66616654163540889, 0.65365853658536588, 0.66041275797373356]), (81, [0.65791447861965491, 0.65603900975243812, 0.64990619136960603, 0.66041275797373356]), (101, [0.66354088522130528, 0.66466616654163546, 0.64502814258911823, 0.64953095684802997]), (121, [0.65041260315078775, 0.66504126031507882, 0.63489681050656666, 0.64727954971857415]), (141, [0.65303825956489125, 0.65866466616654162, 0.63377110694183869, 0.64015009380863042])])\n"
     ]
    }
   ],
   "source": [
    "knn_dict= {}\n",
    "knn_dict = OrderedDict(sorted(result_knn.items(), key=lambda t: t[0]))\n",
    "print(knn_dict)"
   ]
  },
  {
   "cell_type": "code",
   "execution_count": 81,
   "metadata": {},
   "outputs": [
    {
     "name": "stdout",
     "output_type": "stream",
     "text": [
      "Best parameter 61\n"
     ]
    }
   ],
   "source": [
    "means_knn_gr = [[np.mean(param) for param in knn_dict[key]] for key in knn_dict.keys()]\n",
    "means_knn = np.mean(means_knn_gr,axis=1)\n",
    "\n",
    "max_knn_2 = np.max(means_knn)\n",
    "\n",
    "for m in range(0,len(means_knn)):\n",
    "    if means_knn[m] == max_knn_2:\n",
    "        ind = m\n",
    "\n",
    "n = 0\n",
    "for key in knn_dict.keys():\n",
    "    if n == ind:\n",
    "        best_param_knn_2 = key\n",
    "        break\n",
    "    else:\n",
    "        n+=1\n",
    "           \n",
    "print(\"Best parameter\",best_param_knn_2)"
   ]
  },
  {
   "cell_type": "code",
   "execution_count": 82,
   "metadata": {},
   "outputs": [
    {
     "data": {
      "text/plain": [
       "<matplotlib.text.Text at 0x6cb2f97390>"
      ]
     },
     "execution_count": 82,
     "metadata": {},
     "output_type": "execute_result"
    },
    {
     "data": {
      "image/png": "[encoded data removed]",
      "text/plain": [
       "<matplotlib.figure.Figure at 0x6cb2fb7278>"
      ]
     },
     "metadata": {},
     "output_type": "display_data"
    }
   ],
   "source": [
    "plt.plot(ns,means_knn_gr)\n",
    "plt.ylabel('accuracy_score')\n",
    "plt.xlabel('knn')"
   ]
  },
  {
   "cell_type": "markdown",
   "metadata": {},
   "source": [
    "#### LogisticRegression , n-gramm = 2"
   ]
  },
  {
   "cell_type": "code",
   "execution_count": 83,
   "metadata": {
    "collapsed": true
   },
   "outputs": [],
   "source": [
    "result_log = {}\n",
    "for i in cs:\n",
    "    scores_log = []    \n",
    "    for train_ind, test_ind in kf.split(df['review']):\n",
    "        log_reg = LogisticRegression(C = i,penalty = 'l2', fit_intercept=True, max_iter=100, solver='lbfgs', random_state=12345)\n",
    "        vectorizer = TfidfVectorizer(ngram_range=(2,2))\n",
    "        X_train = vectorizer.fit_transform(df['review'][train_ind])\n",
    "        X_test = vectorizer.transform(df['review'][test_ind])\n",
    "        y_train = df['type'][train_ind]\n",
    "        y_test = df['type'][test_ind]    \n",
    "        log_reg.fit(X_train, y_train) \n",
    "        y_hat_log_reg = log_reg.predict(X_test)       \n",
    "        scores_log.append(accuracy_score(y_test,y_hat_log_reg))\n",
    "    result_log.update({i:scores_log})"
   ]
  },
  {
   "cell_type": "code",
   "execution_count": 84,
   "metadata": {},
   "outputs": [
    {
     "name": "stdout",
     "output_type": "stream",
     "text": [
      "OrderedDict([(0.01, [0.65041260315078775, 0.66991747936984247, 0.58911819887429639, 0.59437148217636027]), (0.51794746792312096, [0.69317329332333089, 0.70442610652663162, 0.6971857410881801, 0.69756097560975605]), (26.826957952797247, [0.71417854463615904, 0.70330082520630155, 0.70694183864915572, 0.71932457786116322]), (1389.4954943731361, [0.71230307576894225, 0.70255063765941483, 0.70731707317073167, 0.72270168855534711]), (71968.567300115144, [0.71267816954238561, 0.70217554388597148, 0.70731707317073167, 0.72157598499061915]), (3727593.7203149381, [0.71042760690172546, 0.70517629407351834, 0.70656660412757977, 0.71557223264540337]), (193069772.88832456, [0.70667666916729177, 0.70442610652663162, 0.7088180112570357, 0.71482176360225136]), (10000000000.0, [0.70967741935483875, 0.70367591897974491, 0.70694183864915572, 0.71181988742964353])])\n"
     ]
    }
   ],
   "source": [
    "log_dict= {}\n",
    "log_dict = OrderedDict(sorted(result_log.items(), key=lambda t: t[0]))\n",
    "print(log_dict)"
   ]
  },
  {
   "cell_type": "code",
   "execution_count": 85,
   "metadata": {},
   "outputs": [
    {
     "name": "stdout",
     "output_type": "stream",
     "text": [
      "Best parameter 1389.49549437\n"
     ]
    }
   ],
   "source": [
    "means_log_gr = [[np.mean(param) for param in log_dict[key]] for key in log_dict.keys()]\n",
    "means_log = np.mean(means_log_gr,axis=1)\n",
    "\n",
    "max_log_2 = np.max(means_log)\n",
    "\n",
    "for m in range(0,len(means_log)):\n",
    "    if means_log[m] == max_log_2:\n",
    "        ind = m\n",
    "\n",
    "n = 0\n",
    "for key in log_dict.keys():\n",
    "    if n == ind:\n",
    "        best_param_log_2 = key\n",
    "        break\n",
    "    else:\n",
    "        n+=1\n",
    "           \n",
    "print(\"Best parameter\",best_param_log_2)"
   ]
  },
  {
   "cell_type": "code",
   "execution_count": 86,
   "metadata": {},
   "outputs": [
    {
     "data": {
      "text/plain": [
       "<matplotlib.text.Text at 0x6cb30cc3c8>"
      ]
     },
     "execution_count": 86,
     "metadata": {},
     "output_type": "execute_result"
    },
    {
     "data": {
      "image/png": "[encoded data removed]",
      "text/plain": [
       "<matplotlib.figure.Figure at 0x6cb2fddc50>"
      ]
     },
     "metadata": {},
     "output_type": "display_data"
    }
   ],
   "source": [
    "plt.plot(cs,means_log_gr)\n",
    "plt.ylabel('accuracy_score')\n",
    "plt.xlabel('Log_reg')"
   ]
  },
  {
   "cell_type": "markdown",
   "metadata": {},
   "source": [
    "#### MultinomialNB, n-gramm = 2"
   ]
  },
  {
   "cell_type": "code",
   "execution_count": 87,
   "metadata": {
    "collapsed": true
   },
   "outputs": [],
   "source": [
    "result_mnb = {}\n",
    "for k in alphas:\n",
    "    scores_mnb = []    \n",
    "    for train_ind, test_ind in kf.split(df['review']):\n",
    "        mnb = MultinomialNB(alpha = k)\n",
    "        vectorizer = TfidfVectorizer(ngram_range=(2,2))\n",
    "        X_train = vectorizer.fit_transform(df['review'][train_ind])\n",
    "        X_test = vectorizer.transform(df['review'][test_ind])\n",
    "        y_train = df['type'][train_ind]\n",
    "        y_test = df['type'][test_ind]    \n",
    "        mnb.fit(X_train, y_train) \n",
    "        y_hat_mnb = mnb.predict(X_test)       \n",
    "        scores_mnb.append(accuracy_score(y_test,y_hat_mnb))\n",
    "    result_mnb.update({k:scores_mnb})"
   ]
  },
  {
   "cell_type": "code",
   "execution_count": 88,
   "metadata": {},
   "outputs": [
    {
     "name": "stdout",
     "output_type": "stream",
     "text": [
      "OrderedDict([(0.0001, [0.69992498124531133, 0.69954988747186797, 0.69118198874296433, 0.71106941838649151]), (0.0005179474679231213, [0.69879969992498125, 0.69692423105776447, 0.69118198874296433, 0.71031894934333961]), (0.0026826957952797272, [0.69992498124531133, 0.70030007501875469, 0.6930581613508443, 0.71332082551594744]), (0.013894954943731374, [0.70667666916729177, 0.70292573143285819, 0.70206378986866791, 0.7178236397748593]), (0.071968567300115208, [0.7100525131282821, 0.70967741935483875, 0.7178236397748593, 0.72682926829268291]), (0.37275937203149417, [0.72130532633158284, 0.72130532633158284, 0.72457786116322698, 0.73208255159474667]), (1.9306977288832496, [0.71755438859714926, 0.71342835708927232, 0.71969981238273917, 0.72833020637898682]), (10.0, [0.70255063765941483, 0.70592648162040506, 0.70431519699812384, 0.71519699812382742])])\n"
     ]
    }
   ],
   "source": [
    "mnb_dict= {}\n",
    "mnb_dict = OrderedDict(sorted(result_mnb.items(), key=lambda t: t[0]))\n",
    "print(mnb_dict)"
   ]
  },
  {
   "cell_type": "code",
   "execution_count": 89,
   "metadata": {},
   "outputs": [
    {
     "name": "stdout",
     "output_type": "stream",
     "text": [
      "Best parameter 0.372759372031\n"
     ]
    }
   ],
   "source": [
    "means_mnb_gr = [[np.mean(param) for param in mnb_dict[key]] for key in mnb_dict.keys()]\n",
    "means_mnb = np.mean(means_mnb_gr,axis=1)\n",
    "\n",
    "max_mnb_2 = np.max(means_mnb)\n",
    "\n",
    "for m in range(0,len(means_mnb)):\n",
    "    if means_mnb[m] == max_mnb_2:\n",
    "        ind = m\n",
    "\n",
    "n = 0\n",
    "for key in mnb_dict.keys():\n",
    "    if n == ind:\n",
    "        best_param_mnb_2 = key\n",
    "        break\n",
    "    else:\n",
    "        n+=1\n",
    "           \n",
    "print(\"Best parameter\",best_param_mnb_2)"
   ]
  },
  {
   "cell_type": "code",
   "execution_count": 90,
   "metadata": {},
   "outputs": [
    {
     "data": {
      "text/plain": [
       "<matplotlib.text.Text at 0x6cb6d1d438>"
      ]
     },
     "execution_count": 90,
     "metadata": {},
     "output_type": "execute_result"
    },
    {
     "data": {
      "image/png": "[encoded data removed]",
      "text/plain": [
       "<matplotlib.figure.Figure at 0x6cb310b240>"
      ]
     },
     "metadata": {},
     "output_type": "display_data"
    }
   ],
   "source": [
    "plt.plot(alphas,means_mnb_gr)\n",
    "plt.ylabel('accuracy_score')\n",
    "plt.xlabel('MNB')"
   ]
  },
  {
   "cell_type": "markdown",
   "metadata": {},
   "source": [
    "### Выбор луччшей модели\n",
    "##### 1) Для K-neighbors получаем лучшую модель при n_neighbors = 61\n",
    "##### 2) Для LogisticRegression получаем лучшую модель при C =  1389.49549437\n",
    "##### 3) Для MultinomialNB получаем лучшую модель при alpha = 0.372759372031"
   ]
  },
  {
   "cell_type": "markdown",
   "metadata": {},
   "source": [
    "### Обучим выбранные модели"
   ]
  },
  {
   "cell_type": "code",
   "execution_count": 91,
   "metadata": {
    "collapsed": true
   },
   "outputs": [],
   "source": [
    "X_train, X_test, y_train, y_test = train_test_split(df['review'],df['type'],test_size=0.3 ,random_state=123)\n",
    "vectorize = TfidfVectorizer(ngram_range=(2,2))\n",
    "X_train = vectorize.fit_transform(X_train)\n",
    "X_test = vectorize.transform(X_test)\n",
    "knn = KNeighborsClassifier(n_neighbors=61)\n",
    "log_reg = LogisticRegression(C=1389.49549437)\n",
    "mnb = MultinomialNB(alpha=0.372759372031)"
   ]
  },
  {
   "cell_type": "code",
   "execution_count": 92,
   "metadata": {},
   "outputs": [
    {
     "name": "stdout",
     "output_type": "stream",
     "text": [
      "1000 loops, best of 3: 862 µs per loop\n"
     ]
    },
    {
     "data": {
      "text/plain": [
       "<TimeitResult : 1000 loops, best of 3: 862 µs per loop>"
      ]
     },
     "execution_count": 92,
     "metadata": {},
     "output_type": "execute_result"
    }
   ],
   "source": [
    "%%timeit -o\n",
    "knn.fit(X_train,y_train)"
   ]
  },
  {
   "cell_type": "code",
   "execution_count": 93,
   "metadata": {
    "collapsed": true
   },
   "outputs": [],
   "source": [
    "t_fit_knn_2 = _"
   ]
  },
  {
   "cell_type": "code",
   "execution_count": 94,
   "metadata": {},
   "outputs": [
    {
     "data": {
      "text/plain": [
       "KNeighborsClassifier(algorithm='auto', leaf_size=30, metric='minkowski',\n",
       "           metric_params=None, n_jobs=1, n_neighbors=61, p=2,\n",
       "           weights='uniform')"
      ]
     },
     "execution_count": 94,
     "metadata": {},
     "output_type": "execute_result"
    }
   ],
   "source": [
    "knn.fit(X_train,y_train)"
   ]
  },
  {
   "cell_type": "code",
   "execution_count": 95,
   "metadata": {},
   "outputs": [
    {
     "name": "stdout",
     "output_type": "stream",
     "text": [
      "10 loops, best of 3: 133 ms per loop\n"
     ]
    },
    {
     "data": {
      "text/plain": [
       "<TimeitResult : 10 loops, best of 3: 133 ms per loop>"
      ]
     },
     "execution_count": 95,
     "metadata": {},
     "output_type": "execute_result"
    }
   ],
   "source": [
    "%%timeit -o\n",
    "log_reg.fit(X_train,y_train)"
   ]
  },
  {
   "cell_type": "code",
   "execution_count": 96,
   "metadata": {
    "collapsed": true
   },
   "outputs": [],
   "source": [
    "t_fit_log_2 = _"
   ]
  },
  {
   "cell_type": "code",
   "execution_count": 97,
   "metadata": {},
   "outputs": [
    {
     "data": {
      "text/plain": [
       "LogisticRegression(C=1389.49549437, class_weight=None, dual=False,\n",
       "          fit_intercept=True, intercept_scaling=1, max_iter=100,\n",
       "          multi_class='ovr', n_jobs=1, penalty='l2', random_state=None,\n",
       "          solver='liblinear', tol=0.0001, verbose=0, warm_start=False)"
      ]
     },
     "execution_count": 97,
     "metadata": {},
     "output_type": "execute_result"
    }
   ],
   "source": [
    "log_reg.fit(X_train,y_train)"
   ]
  },
  {
   "cell_type": "code",
   "execution_count": 98,
   "metadata": {},
   "outputs": [
    {
     "name": "stdout",
     "output_type": "stream",
     "text": [
      "100 loops, best of 3: 6.45 ms per loop\n"
     ]
    },
    {
     "data": {
      "text/plain": [
       "<TimeitResult : 100 loops, best of 3: 6.45 ms per loop>"
      ]
     },
     "execution_count": 98,
     "metadata": {},
     "output_type": "execute_result"
    }
   ],
   "source": [
    "%%timeit -o\n",
    "mnb.fit(X_train,y_train)"
   ]
  },
  {
   "cell_type": "code",
   "execution_count": 99,
   "metadata": {
    "collapsed": true
   },
   "outputs": [],
   "source": [
    "t_fit_mnb_2 = _"
   ]
  },
  {
   "cell_type": "code",
   "execution_count": 100,
   "metadata": {},
   "outputs": [
    {
     "data": {
      "text/plain": [
       "MultinomialNB(alpha=0.372759372031, class_prior=None, fit_prior=True)"
      ]
     },
     "execution_count": 100,
     "metadata": {},
     "output_type": "execute_result"
    }
   ],
   "source": [
    "mnb.fit(X_train,y_train)"
   ]
  },
  {
   "cell_type": "code",
   "execution_count": 101,
   "metadata": {},
   "outputs": [
    {
     "name": "stdout",
     "output_type": "stream",
     "text": [
      "1 loop, best of 3: 397 ms per loop\n"
     ]
    },
    {
     "data": {
      "text/plain": [
       "<TimeitResult : 1 loop, best of 3: 397 ms per loop>"
      ]
     },
     "execution_count": 101,
     "metadata": {},
     "output_type": "execute_result"
    }
   ],
   "source": [
    "%%timeit -o\n",
    "knn.predict(X_test)"
   ]
  },
  {
   "cell_type": "code",
   "execution_count": 102,
   "metadata": {
    "collapsed": true
   },
   "outputs": [],
   "source": [
    "t_pred_knn_2 = _"
   ]
  },
  {
   "cell_type": "code",
   "execution_count": 103,
   "metadata": {
    "collapsed": true
   },
   "outputs": [],
   "source": [
    "y_hat_knn = knn.predict(X_test)"
   ]
  },
  {
   "cell_type": "code",
   "execution_count": 104,
   "metadata": {},
   "outputs": [
    {
     "name": "stdout",
     "output_type": "stream",
     "text": [
      "The slowest run took 5.18 times longer than the fastest. This could mean that an intermediate result is being cached.\n",
      "10000 loops, best of 3: 131 µs per loop\n"
     ]
    },
    {
     "data": {
      "text/plain": [
       "<TimeitResult : 10000 loops, best of 3: 131 µs per loop>"
      ]
     },
     "execution_count": 104,
     "metadata": {},
     "output_type": "execute_result"
    }
   ],
   "source": [
    "%%timeit -o\n",
    "log_reg.predict(X_test)"
   ]
  },
  {
   "cell_type": "code",
   "execution_count": 105,
   "metadata": {
    "collapsed": true
   },
   "outputs": [],
   "source": [
    "t_pred_log_2 = _"
   ]
  },
  {
   "cell_type": "code",
   "execution_count": 106,
   "metadata": {
    "collapsed": true
   },
   "outputs": [],
   "source": [
    "y_hat_log = log_reg.predict(X_test)"
   ]
  },
  {
   "cell_type": "code",
   "execution_count": 107,
   "metadata": {},
   "outputs": [
    {
     "name": "stdout",
     "output_type": "stream",
     "text": [
      "1000 loops, best of 3: 1.14 ms per loop\n"
     ]
    },
    {
     "data": {
      "text/plain": [
       "<TimeitResult : 1000 loops, best of 3: 1.14 ms per loop>"
      ]
     },
     "execution_count": 107,
     "metadata": {},
     "output_type": "execute_result"
    }
   ],
   "source": [
    "%%timeit -o\n",
    "mnb.predict(X_test)"
   ]
  },
  {
   "cell_type": "code",
   "execution_count": 108,
   "metadata": {
    "collapsed": true
   },
   "outputs": [],
   "source": [
    "t_pred_mnb_2 = _"
   ]
  },
  {
   "cell_type": "code",
   "execution_count": 109,
   "metadata": {
    "collapsed": true
   },
   "outputs": [],
   "source": [
    "y_hat_mnb = mnb.predict(X_test)"
   ]
  },
  {
   "cell_type": "code",
   "execution_count": 110,
   "metadata": {},
   "outputs": [
    {
     "name": "stdout",
     "output_type": "stream",
     "text": [
      "knn 0.662081900594\n",
      "log_reg 0.706470772116\n",
      "MNB 0.71772428884\n"
     ]
    }
   ],
   "source": [
    "ac_knn_1 = accuracy_score(y_test,y_hat_knn)\n",
    "ac_log_1 = accuracy_score(y_test,y_hat_log)\n",
    "ac_mnb_1 = accuracy_score(y_test,y_hat_mnb)\n",
    "\n",
    "\n",
    "print(\"knn\",ac_knn_1)\n",
    "print(\"log_reg\",ac_log_1)\n",
    "print(\"MNB\",ac_mnb_1)"
   ]
  },
  {
   "cell_type": "markdown",
   "metadata": {},
   "source": [
    "#### Выведем данные по моделям"
   ]
  },
  {
   "cell_type": "code",
   "execution_count": 111,
   "metadata": {},
   "outputs": [
    {
     "name": "stdout",
     "output_type": "stream",
     "text": [
      "Метод - KNeighbors\n",
      "n-gramm - 1\n",
      "Значение параметра - 61\n",
      "Время обучение -  0.0008446778994957071\n",
      "Время предсказания -  0.9290780724179513\n",
      "Доля правильных ответов -  0.749672197599\n",
      "Метод - KNeighbors\n",
      "n-gramm - 2\n",
      "Значение параметра -  61\n",
      "Время обучение -  0.0008622443680189348\n",
      "Время предсказания -  0.3970236191572667\n",
      "Доля правильных ответов -  0.660850906911\n",
      "Метод - LogisticRegression\n",
      "n-gramm - 1\n",
      "Значение параметра -  26.8269579528\n",
      "Время обучение -  0.0944838135839177\n",
      "Время предсказания -  0.00015790940632085722\n",
      "Доля правильных ответов -  0.760082035049\n",
      "Метод - LogisticRegression\n",
      "n-gramm -  2\n",
      "Значение параметра -  1389.49549437\n",
      "Время обучение -  0.1331435923731931\n",
      "Время предсказания -  0.00013097845163986222\n",
      "Доля правильных ответов -  0.711218118789\n",
      "Метод - MultinomialNB\n",
      "n-gramm -  1\n",
      "Значение параметра -  1.93069772888\n",
      "Время обучение -  0.002540918154658698\n",
      "Время предсказания -  0.0004348345517672669\n",
      "Доля правильных ответов -  0.778184567249\n",
      "Метод - MultinomialNB\n",
      "n-gramm -  2\n",
      "Значение параметра -  0.372759372031\n",
      "Время обучение -  0.006453665503862567\n",
      "Время предсказания -  0.0011363926172223272\n",
      "Доля правильных ответов -  0.724817766355\n"
     ]
    }
   ],
   "source": [
    "print(\"Метод - KNeighbors\")\n",
    "print(\"n-gramm - 1\")\n",
    "print(\"Значение параметра -\",best_param_knn_1) \n",
    "print(\"Время обучение - \",t_fit_knn_1.best)\n",
    "print(\"Время предсказания - \",t_pred_knn_1.best)\n",
    "print(\"Доля правильных ответов - \",max_knn_1)\n",
    "\n",
    "print(\"Метод - KNeighbors\")\n",
    "print(\"n-gramm - 2\")\n",
    "print(\"Значение параметра - \",best_param_knn_2)\n",
    "print(\"Время обучение - \",t_fit_knn_2.best)\n",
    "print(\"Время предсказания - \",t_pred_knn_2.best)\n",
    "print(\"Доля правильных ответов - \",max_knn_2)\n",
    "\n",
    "print(\"Метод - LogisticRegression\")\n",
    "print(\"n-gramm - 1\")\n",
    "print(\"Значение параметра - \",best_param_log_1)\n",
    "print(\"Время обучение - \",t_fit_log_1.best)\n",
    "print(\"Время предсказания - \",t_pred_log_1.best)\n",
    "print(\"Доля правильных ответов - \",max_log_1)\n",
    "\n",
    "print(\"Метод - LogisticRegression\")\n",
    "print(\"n-gramm -  2\")\n",
    "print(\"Значение параметра - \",best_param_log_2)\n",
    "print(\"Время обучение - \",t_fit_log_2.best)\n",
    "print(\"Время предсказания - \",t_pred_log_2.best)\n",
    "print(\"Доля правильных ответов - \",max_log_2)\n",
    "\n",
    "print(\"Метод - MultinomialNB\")\n",
    "print(\"n-gramm -  1\")\n",
    "print(\"Значение параметра - \",best_param_mnb_1)\n",
    "print(\"Время обучение - \",t_fit_mnb_1.best)\n",
    "print(\"Время предсказания - \",t_pred_mnb_1.best)\n",
    "print(\"Доля правильных ответов - \",max_mnb_1)\n",
    "\n",
    "print(\"Метод - MultinomialNB\")\n",
    "print(\"n-gramm -  2\")\n",
    "print(\"Значение параметра - \",best_param_mnb_2)\n",
    "print(\"Время обучение - \",t_fit_mnb_2.best)\n",
    "print(\"Время предсказания - \",t_pred_mnb_2.best)\n",
    "print(\"Доля правильных ответов - \",max_mnb_2)"
   ]
  },
  {
   "cell_type": "markdown",
   "metadata": {
    "collapsed": true
   },
   "source": [
    "### Выводы"
   ]
  },
  {
   "cell_type": "markdown",
   "metadata": {},
   "source": [
    " В ходе выполнения домашнего задания я проверил модели K-neigbors, LogisticRegression, MultinomialNB и сделал следующие выводы на основе получившихся измеренных данных\n",
    "  для n-gramm = 1\n",
    "      Наибольшую долю правильных ответов имеет MultinomialNB, а наименьшую - K-neigbors. Что же касается времени обучения, меньше всего оно у K-neigbors, а больше всего у LogisticRegression.Так же можно заметить ,что время предсказания наибольшее у K-neigbors, а нименьшее у LogisticRegression\n",
    "      для n-gramm = 2\n",
    "        В это же время доля правильных ответов имеет такую же расстановку, как и при n-gramm = 1, но сами доли стали меньше.Что же касается времени обучения, меньше всего оно у K-neigbors, а больше всего у LogisticRegression.Так же можно заметить ,что время предсказания наибольшее у K-neigbors, а нименьшее у LogisticRegression "
   ]
  },
  {
   "cell_type": "markdown",
   "metadata": {},
   "source": [
    "## Задача 4. (опционально)\n",
    "#### Исследование влияния количества признаков FeatureHasher на качество классификации (5 баллов к сумме по всем ДЗ) "
   ]
  },
  {
   "cell_type": "markdown",
   "metadata": {},
   "source": [
    "<p>Как будет меняться качество классификации для обозначенных ранее методов при использовании FeatureHasher (или HashingVectorizer) из пакета sklearn перед TF-IDF преобразованием, если</p>"
   ]
  },
  {
   "cell_type": "code",
   "execution_count": null,
   "metadata": {
    "collapsed": true
   },
   "outputs": [],
   "source": [
    "n_features = np.logspace(1, 5, 5, base=10) # количество признаков\n",
    "non_negative=True"
   ]
  },
  {
   "cell_type": "markdown",
   "metadata": {},
   "source": [
    "<p>Можно воспользоваться GridSearchCV</p>"
   ]
  },
  {
   "cell_type": "code",
   "execution_count": null,
   "metadata": {
    "collapsed": true
   },
   "outputs": [],
   "source": []
  }
 ],
 "metadata": {
  "anaconda-cloud": {},
  "kernelspec": {
   "display_name": "Python 3",
   "language": "python",
   "name": "python3"
  },
  "language_info": {
   "codemirror_mode": {
    "name": "ipython",
    "version": 3
   },
   "file_extension": ".py",
   "mimetype": "text/x-python",
   "name": "python",
   "nbconvert_exporter": "python",
   "pygments_lexer": "ipython3",
   "version": "3.6.2"
  },
  "nav_menu": {},
  "toc": {
   "navigate_menu": true,
   "number_sections": false,
   "sideBar": true,
   "threshold": 6,
   "toc_cell": false,
   "toc_section_display": "block",
   "toc_window_display": true
  }
 },
 "nbformat": 4,
 "nbformat_minor": 2
}
