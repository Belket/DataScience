{
 "cells": [
  {
   "cell_type": "markdown",
   "metadata": {},
   "source": [
    "## Рекомендательные системы: предсказание оценки"
   ]
  },
  {
   "cell_type": "markdown",
   "metadata": {},
   "source": [
    "Рассмотрим задачу предсказания оценки, которую пользователь поставит фильму. Особенность этой задачи в том, что объекты выборки описываются категориальными признаками, принимающими большое число значений (например: идентификатор пользователя, идентификатор фильма, тэги, киноперсоны).\n",
    "\n",
    "Данные: [MovieLens + IMDb/Rotten Tomatoes](http://files.grouplens.org/datasets/hetrec2011/hetrec2011-movielens-2k-v2.zip) ([описание](http://files.grouplens.org/datasets/hetrec2011/hetrec2011-movielens-readme.txt)). Набор содержит данные о предпочтениях пользователей сервиса рекомендации кинофильмов [MovieLens](http://www.movielens.org/). Пользовательские оценки для фильмов принимают значения в интервале от 0.5 до 5.0, они записаны в файле *user_ratedmovies.dat* (а также в *user_ratedmovies-timestamps.dat*,  где для каждой оценки записана дата и время в формате timestamp), остальные файлы содержат дополнительную информацию о фильмах, которую можно использовать как признаки. Заметьте: кроме оценок (и тегов), про пользователя ничего не известно.\n",
    "\n",
    "Задача: построить модель, предсказывающую оценку пользователя фильму, который он еще не смотрел.\n",
    "\n",
    "Метрика качества: будем считать, что пользователю сервиса доступен блок рекомендаций, который может содержать рекомендации не более чем 5 фильмов.\n",
    "Выберем некоторого пользователя $u$ и обозначим известные для него рейтинги за $R^u$. В качестве тестовых рейтингов $R^u_{test}$ для этого пользователя рассмотрим 5 рейтингов, поставленные последними по времени, в качестве валидационных $R^u_{val}$ — предпоследние 5 рейтингов. Остальные известные рейтинги этого пользователя будут составлять обучающую выборку $R^u_{train}$.\n",
    "Для подбора гиперпараметров в рамках данного задания будем использовать валидационную выборку, предварительно обучив модель на обучающей выборке, а для финальной оценки качества — тестовую выборку, предварительно обучив модель на обучающей и валидационной выборках."
   ]
  },
  {
   "cell_type": "markdown",
   "metadata": {},
   "source": [
    "**1. (1 балл)** Загрузите данные и сформируйте 3 разреженные матрицы пользователи—фильмы для обучающих, валидационных и тестовых рейтингов пользователей соответственно, где в каждой ячейке стоит рейтинг, если он известен, или ноль, если неизвестен."
   ]
  },
  {
   "cell_type": "code",
   "execution_count": 1,
   "metadata": {
    "collapsed": true
   },
   "outputs": [],
   "source": [
    "import numpy as np\n",
    "import pandas as pd\n",
    "from scipy import sparse\n",
    "from collections import Counter\n",
    "import matplotlib.pyplot as plt\n",
    "import scipy as sc\n",
    "from tqdm import tqdm\n",
    "%matplotlib inline\n",
    "from tqdm import tqdm_notebook"
   ]
  },
  {
   "cell_type": "code",
   "execution_count": 2,
   "metadata": {
    "collapsed": true
   },
   "outputs": [],
   "source": [
    "user_rate = pd.read_csv('user_ratedmovies-timestamps.dat', sep='\\t')"
   ]
  },
  {
   "cell_type": "code",
   "execution_count": 3,
   "metadata": {},
   "outputs": [
    {
     "data": {
      "text/html": [
       "<div>\n",
       "<style>\n",
       "    .dataframe thead tr:only-child th {\n",
       "        text-align: right;\n",
       "    }\n",
       "\n",
       "    .dataframe thead th {\n",
       "        text-align: left;\n",
       "    }\n",
       "\n",
       "    .dataframe tbody tr th {\n",
       "        vertical-align: top;\n",
       "    }\n",
       "</style>\n",
       "<table border=\"1\" class=\"dataframe\">\n",
       "  <thead>\n",
       "    <tr style=\"text-align: right;\">\n",
       "      <th></th>\n",
       "      <th>userID</th>\n",
       "      <th>movieID</th>\n",
       "      <th>rating</th>\n",
       "      <th>timestamp</th>\n",
       "    </tr>\n",
       "  </thead>\n",
       "  <tbody>\n",
       "    <tr>\n",
       "      <th>0</th>\n",
       "      <td>75</td>\n",
       "      <td>3</td>\n",
       "      <td>1.0</td>\n",
       "      <td>1162160236000</td>\n",
       "    </tr>\n",
       "    <tr>\n",
       "      <th>1</th>\n",
       "      <td>75</td>\n",
       "      <td>32</td>\n",
       "      <td>4.5</td>\n",
       "      <td>1162160624000</td>\n",
       "    </tr>\n",
       "    <tr>\n",
       "      <th>2</th>\n",
       "      <td>75</td>\n",
       "      <td>110</td>\n",
       "      <td>4.0</td>\n",
       "      <td>1162161008000</td>\n",
       "    </tr>\n",
       "    <tr>\n",
       "      <th>3</th>\n",
       "      <td>75</td>\n",
       "      <td>160</td>\n",
       "      <td>2.0</td>\n",
       "      <td>1162160212000</td>\n",
       "    </tr>\n",
       "    <tr>\n",
       "      <th>4</th>\n",
       "      <td>75</td>\n",
       "      <td>163</td>\n",
       "      <td>4.0</td>\n",
       "      <td>1162160970000</td>\n",
       "    </tr>\n",
       "  </tbody>\n",
       "</table>\n",
       "</div>"
      ],
      "text/plain": [
       "   userID  movieID  rating      timestamp\n",
       "0      75        3     1.0  1162160236000\n",
       "1      75       32     4.5  1162160624000\n",
       "2      75      110     4.0  1162161008000\n",
       "3      75      160     2.0  1162160212000\n",
       "4      75      163     4.0  1162160970000"
      ]
     },
     "execution_count": 3,
     "metadata": {},
     "output_type": "execute_result"
    }
   ],
   "source": [
    "user_rate.head()"
   ]
  },
  {
   "cell_type": "markdown",
   "metadata": {},
   "source": [
    "#### Сформируем 3 разреженные матрицы пользователи - фильмы для обучающих, валидационных и тестовых рейтингов пользователей соответственно, где в каждой ячейке стоит рейтинг, если он известен, или ноль, если неизвестен."
   ]
  },
  {
   "cell_type": "markdown",
   "metadata": {},
   "source": [
    "умножим рейтинги на 2, чтобы преобразования выполнялись быстрее, тк станут типа int и вернем к исходному виду после преобразования"
   ]
  },
  {
   "cell_type": "code",
   "execution_count": 4,
   "metadata": {},
   "outputs": [
    {
     "data": {
      "text/html": [
       "<div>\n",
       "<style>\n",
       "    .dataframe thead tr:only-child th {\n",
       "        text-align: right;\n",
       "    }\n",
       "\n",
       "    .dataframe thead th {\n",
       "        text-align: left;\n",
       "    }\n",
       "\n",
       "    .dataframe tbody tr th {\n",
       "        vertical-align: top;\n",
       "    }\n",
       "</style>\n",
       "<table border=\"1\" class=\"dataframe\">\n",
       "  <thead>\n",
       "    <tr style=\"text-align: right;\">\n",
       "      <th></th>\n",
       "      <th>userID</th>\n",
       "      <th>movieID</th>\n",
       "      <th>rating</th>\n",
       "      <th>timestamp</th>\n",
       "    </tr>\n",
       "  </thead>\n",
       "  <tbody>\n",
       "    <tr>\n",
       "      <th>0</th>\n",
       "      <td>75</td>\n",
       "      <td>3</td>\n",
       "      <td>2.0</td>\n",
       "      <td>1162160236000</td>\n",
       "    </tr>\n",
       "    <tr>\n",
       "      <th>1</th>\n",
       "      <td>75</td>\n",
       "      <td>32</td>\n",
       "      <td>9.0</td>\n",
       "      <td>1162160624000</td>\n",
       "    </tr>\n",
       "    <tr>\n",
       "      <th>2</th>\n",
       "      <td>75</td>\n",
       "      <td>110</td>\n",
       "      <td>8.0</td>\n",
       "      <td>1162161008000</td>\n",
       "    </tr>\n",
       "    <tr>\n",
       "      <th>3</th>\n",
       "      <td>75</td>\n",
       "      <td>160</td>\n",
       "      <td>4.0</td>\n",
       "      <td>1162160212000</td>\n",
       "    </tr>\n",
       "    <tr>\n",
       "      <th>4</th>\n",
       "      <td>75</td>\n",
       "      <td>163</td>\n",
       "      <td>8.0</td>\n",
       "      <td>1162160970000</td>\n",
       "    </tr>\n",
       "  </tbody>\n",
       "</table>\n",
       "</div>"
      ],
      "text/plain": [
       "   userID  movieID  rating      timestamp\n",
       "0      75        3     2.0  1162160236000\n",
       "1      75       32     9.0  1162160624000\n",
       "2      75      110     8.0  1162161008000\n",
       "3      75      160     4.0  1162160212000\n",
       "4      75      163     8.0  1162160970000"
      ]
     },
     "execution_count": 4,
     "metadata": {},
     "output_type": "execute_result"
    }
   ],
   "source": [
    "user_rate.rating = user_rate.rating * 2 \n",
    "user_rate.head()"
   ]
  },
  {
   "cell_type": "code",
   "execution_count": 5,
   "metadata": {},
   "outputs": [
    {
     "data": {
      "text/html": [
       "<div>\n",
       "<style>\n",
       "    .dataframe thead tr:only-child th {\n",
       "        text-align: right;\n",
       "    }\n",
       "\n",
       "    .dataframe thead th {\n",
       "        text-align: left;\n",
       "    }\n",
       "\n",
       "    .dataframe tbody tr th {\n",
       "        vertical-align: top;\n",
       "    }\n",
       "</style>\n",
       "<table border=\"1\" class=\"dataframe\">\n",
       "  <thead>\n",
       "    <tr style=\"text-align: right;\">\n",
       "      <th></th>\n",
       "      <th>userID</th>\n",
       "      <th>movieID</th>\n",
       "      <th>rating</th>\n",
       "      <th>timestamp</th>\n",
       "    </tr>\n",
       "  </thead>\n",
       "  <tbody>\n",
       "    <tr>\n",
       "      <th>628154</th>\n",
       "      <td>51198</td>\n",
       "      <td>608</td>\n",
       "      <td>10.0</td>\n",
       "      <td>874532420000</td>\n",
       "    </tr>\n",
       "    <tr>\n",
       "      <th>628167</th>\n",
       "      <td>51198</td>\n",
       "      <td>1073</td>\n",
       "      <td>8.0</td>\n",
       "      <td>874532466000</td>\n",
       "    </tr>\n",
       "    <tr>\n",
       "      <th>628132</th>\n",
       "      <td>51198</td>\n",
       "      <td>141</td>\n",
       "      <td>8.0</td>\n",
       "      <td>874532518000</td>\n",
       "    </tr>\n",
       "    <tr>\n",
       "      <th>628141</th>\n",
       "      <td>51198</td>\n",
       "      <td>356</td>\n",
       "      <td>8.0</td>\n",
       "      <td>874532624000</td>\n",
       "    </tr>\n",
       "    <tr>\n",
       "      <th>628180</th>\n",
       "      <td>51198</td>\n",
       "      <td>1198</td>\n",
       "      <td>10.0</td>\n",
       "      <td>874532675000</td>\n",
       "    </tr>\n",
       "  </tbody>\n",
       "</table>\n",
       "</div>"
      ],
      "text/plain": [
       "        userID  movieID  rating     timestamp\n",
       "628154   51198      608    10.0  874532420000\n",
       "628167   51198     1073     8.0  874532466000\n",
       "628132   51198      141     8.0  874532518000\n",
       "628141   51198      356     8.0  874532624000\n",
       "628180   51198     1198    10.0  874532675000"
      ]
     },
     "execution_count": 5,
     "metadata": {},
     "output_type": "execute_result"
    }
   ],
   "source": [
    "user_rate = user_rate.sort_values(by='timestamp',axis=0)\n",
    "user_rate.head()"
   ]
  },
  {
   "cell_type": "code",
   "execution_count": 6,
   "metadata": {
    "collapsed": true
   },
   "outputs": [],
   "source": [
    "unique_users = user_rate.userID.unique()"
   ]
  },
  {
   "cell_type": "code",
   "execution_count": 7,
   "metadata": {
    "collapsed": true
   },
   "outputs": [],
   "source": [
    "train_matrix_start = user_rate[user_rate.userID == unique_users[0]][:-10]\n",
    "valid_matrix_start = user_rate[user_rate.userID == unique_users[0]][-10:-5]\n",
    "test_matrix_start = user_rate[user_rate.userID == unique_users[0]][-5:]"
   ]
  },
  {
   "cell_type": "code",
   "execution_count": 8,
   "metadata": {},
   "outputs": [
    {
     "data": {
      "application/vnd.jupyter.widget-view+json": {
       "model_id": "06e172be1edb47168aa31a085c9b089c",
       "version_major": 2,
       "version_minor": 0
      },
      "text/plain": [
       "A Jupyter Widget"
      ]
     },
     "metadata": {},
     "output_type": "display_data"
    },
    {
     "name": "stdout",
     "output_type": "stream",
     "text": [
      "\n"
     ]
    }
   ],
   "source": [
    "for user in tqdm_notebook(range(1,len(unique_users))):\n",
    "    train_matrix_start = pd.concat([train_matrix_start,user_rate[user_rate.userID == unique_users[user]][:-10]])\n",
    "    valid_matrix_start = pd.concat([valid_matrix_start,user_rate[user_rate.userID == unique_users[user]][-10:-5]])\n",
    "    test_matrix_start = pd.concat([test_matrix_start,user_rate[user_rate.userID == unique_users[user]][-5:]])"
   ]
  },
  {
   "cell_type": "code",
   "execution_count": 9,
   "metadata": {},
   "outputs": [
    {
     "data": {
      "text/plain": [
       "((834468, 4), (10565, 4), (10565, 4))"
      ]
     },
     "execution_count": 9,
     "metadata": {},
     "output_type": "execute_result"
    }
   ],
   "source": [
    "train_matrix_start.shape, valid_matrix_start.shape, test_matrix_start.shape"
   ]
  },
  {
   "cell_type": "markdown",
   "metadata": {},
   "source": [
    "##### Функция для формирования матрицы"
   ]
  },
  {
   "cell_type": "code",
   "execution_count": 10,
   "metadata": {
    "collapsed": true
   },
   "outputs": [],
   "source": [
    "def form_matrix(full_zero_ratings_matrix,suitable_ratings_matrix):\n",
    "    info = {}\n",
    "    matrix = full_zero_ratings_matrix.copy()\n",
    "    matrix['rating'] = 0\n",
    "    info.update({'shape of dateframe with indexes':suitable_ratings_matrix.shape}) \n",
    "    indexes = suitable_ratings_matrix.index\n",
    "    \n",
    "    for index in tqdm_notebook(range(len(indexes))):\n",
    "        matrix['rating'][indexes[index]] = suitable_ratings_matrix['rating'][indexes[index]]\n",
    "    info.update({'number of non zero elements in result dataframe':len(matrix.rating[matrix.rating!=0])})\n",
    "    \n",
    "    matrix.rating = matrix.rating / 2\n",
    "    matrix = matrix.pivot(values= 'rating',index= 'userID', columns= 'movieID')\n",
    "    \n",
    "    matrix = matrix.fillna(0)\n",
    "    matrix = matrix.as_matrix()\n",
    "    return matrix, info"
   ]
  },
  {
   "cell_type": "markdown",
   "metadata": {},
   "source": [
    "#### Формируем обучающую матрицу"
   ]
  },
  {
   "cell_type": "code",
   "execution_count": 11,
   "metadata": {},
   "outputs": [
    {
     "data": {
      "application/vnd.jupyter.widget-view+json": {
       "model_id": "34e0dea2b4f04da282661d889971858b",
       "version_major": 2,
       "version_minor": 0
      },
      "text/plain": [
       "A Jupyter Widget"
      ]
     },
     "metadata": {},
     "output_type": "display_data"
    },
    {
     "name": "stdout",
     "output_type": "stream",
     "text": [
      "\n"
     ]
    }
   ],
   "source": [
    "train_matrix, train_matrix_info = form_matrix(user_rate,train_matrix_start)"
   ]
  },
  {
   "cell_type": "code",
   "execution_count": 12,
   "metadata": {},
   "outputs": [
    {
     "data": {
      "text/plain": [
       "array([[ 0. ,  0. ,  1. , ...,  0. ,  0. ,  0. ],\n",
       "       [ 0. ,  0. ,  0. , ...,  0. ,  0. ,  0. ],\n",
       "       [ 0. ,  0. ,  0. , ...,  0. ,  0. ,  0. ],\n",
       "       ..., \n",
       "       [ 0. ,  0. ,  0. , ...,  0. ,  0. ,  0. ],\n",
       "       [ 4.5,  0. ,  2. , ...,  0. ,  0. ,  0. ],\n",
       "       [ 0. ,  0. ,  0. , ...,  0. ,  0. ,  0. ]])"
      ]
     },
     "execution_count": 12,
     "metadata": {},
     "output_type": "execute_result"
    }
   ],
   "source": [
    "train_matrix"
   ]
  },
  {
   "cell_type": "markdown",
   "metadata": {},
   "source": [
    "#### Формируем валидационнную матрицу"
   ]
  },
  {
   "cell_type": "code",
   "execution_count": 13,
   "metadata": {},
   "outputs": [
    {
     "data": {
      "application/vnd.jupyter.widget-view+json": {
       "model_id": "4deb6793fcf64686bc4c105b1d9fa0a4",
       "version_major": 2,
       "version_minor": 0
      },
      "text/plain": [
       "A Jupyter Widget"
      ]
     },
     "metadata": {},
     "output_type": "display_data"
    },
    {
     "name": "stdout",
     "output_type": "stream",
     "text": [
      "\n"
     ]
    }
   ],
   "source": [
    "valid_matrix, valid_matrix_start = form_matrix(user_rate,valid_matrix_start)"
   ]
  },
  {
   "cell_type": "code",
   "execution_count": 14,
   "metadata": {},
   "outputs": [
    {
     "data": {
      "text/plain": [
       "array([[ 0.,  0.,  0., ...,  0.,  0.,  0.],\n",
       "       [ 0.,  0.,  0., ...,  0.,  0.,  0.],\n",
       "       [ 0.,  0.,  0., ...,  0.,  0.,  0.],\n",
       "       ..., \n",
       "       [ 0.,  0.,  0., ...,  0.,  0.,  0.],\n",
       "       [ 0.,  0.,  0., ...,  0.,  0.,  0.],\n",
       "       [ 0.,  0.,  0., ...,  0.,  0.,  0.]])"
      ]
     },
     "execution_count": 14,
     "metadata": {},
     "output_type": "execute_result"
    }
   ],
   "source": [
    "valid_matrix"
   ]
  },
  {
   "cell_type": "markdown",
   "metadata": {},
   "source": [
    "#### Формируем тестувую матрицу"
   ]
  },
  {
   "cell_type": "code",
   "execution_count": 15,
   "metadata": {},
   "outputs": [
    {
     "data": {
      "application/vnd.jupyter.widget-view+json": {
       "model_id": "617c1a8fc71a4357bd0a0fac408a4876",
       "version_major": 2,
       "version_minor": 0
      },
      "text/plain": [
       "A Jupyter Widget"
      ]
     },
     "metadata": {},
     "output_type": "display_data"
    },
    {
     "name": "stdout",
     "output_type": "stream",
     "text": [
      "\n"
     ]
    }
   ],
   "source": [
    "test_matrix, test_matrix_info = form_matrix(user_rate,test_matrix_start)"
   ]
  },
  {
   "cell_type": "markdown",
   "metadata": {},
   "source": [
    "Качество рекомендаций: будем использовать метрики RMSE@k и nDCG@k для $k=5$, описанные ниже.\n",
    "\n",
    "#### RMSE@k\n",
    "\n",
    "Поскольку нас интересуют лишь фильмы, попавшие в блок рекомендаций, качество работы модели можно оценивать при помощи RMSE на $k$ фильмах с наибольшим предсказанным рейтингом, где $k$ — размер блока рекомендаций. Отсортируем предсказанные моделью рейтинги $\\hat{r}_{ui}$ в порядке убывания и обозначим $i$-ый элемент в полученной последовательности за $\\hat{r}_{u(i)},$ а соответствующее этому фильму истинное значение рейтинга — за $r_{u(i)}$. Тогда RMSE@k:\n",
    "\n",
    "$$ \\text{RMSE@k}(u) = \\sqrt{ \\frac{1}{k} \\sum_{i=1}^k (r_{u(i)} - \\hat{r}_{u(i)})^2 },$$\n",
    "$$ \\text{RMSE@k} = \\frac{1}{|U|} \\sum_{u \\in U} \\text{RMSE@k}(u),$$\n",
    "где $U$ — множество пользователей. При вычислении данной метрики все неизвестные оценки будем полагать равными 0.\n",
    "\n",
    "#### nDCG@k\n",
    "\n",
    "Также можно использовать метрику качества ранжирования. Для этого для каждого пользователя $u$ предскажем оценку для всех фильмов из $R^u_{test}$ и отсортируем эти фильмы по убыванию предсказанного рейтинга. Ожидается, что хороший алгоритм должен выдать релевантные фильмы вверху списка. Отсортируем предсказанные моделью рейтинги $\\hat{r}_{ui}$ в порядке убывания и обозначим $i$-ый элемент в полученной последовательности за $\\hat{r}_{u(i)},$ а соответствующее этому фильму истинное значение рейтинга — за $r_{u(i)}.$\n",
    "\n",
    "Тогда nDCG@k :\n",
    "\n",
    "$$\\text{DCG@k}(u) = \\sum_{i=1}^k g(r_{u(i)}) d(i),$$\n",
    "$$\\text{nDCG@k}(u) = \\frac{\\text{DCG@k}(u)}{\\max \\text{DCG@k}(u)},$$\n",
    "$$\\text{nDCG@k} = \\frac{1}{|U|} \\sum_{u \\in U} \\text{nDCG@k}(u),$$\n",
    "где $g(r)$ — функция полезности фильма, а  $d(i)$ — штраф за позицию.\n",
    "\n",
    "Положим $g(r) = 2^r-1, \\, d(i) = \\frac{1}{\\log_2 (i+1)}.$ При вычислении данной метрики все неизвестные оценки будем полагать равными 0."
   ]
  },
  {
   "cell_type": "markdown",
   "metadata": {},
   "source": [
    "**2. (2 балла)** Реализуйте функции rmse_score и ndcg_score, вычисляющие значения описанных выше метрик. Каждая из функций в качестве параметров должна принимать:\n",
    " * y_true — матрицу тестовых рейтингов (сформированную аналогично матрице тестовых рейтингов из предыдущего пункта; функция должна корректно работать и для разреженных, и для плотных матриц);\n",
    " * y_predicted — матрицу предсказаний модели в аналогичном формате (функция должна корректно работать и для разреженных, и для плотных матриц);\n",
    " * k — параметр $k$ в определениях метрик."
   ]
  },
  {
   "cell_type": "markdown",
   "metadata": {},
   "source": [
    "##### rmse score"
   ]
  },
  {
   "cell_type": "code",
   "execution_count": 16,
   "metadata": {
    "collapsed": true
   },
   "outputs": [],
   "source": [
    "def rmse_score(y_true, y_predicted, k=5):   \n",
    "    matrix_types = [np.ndarray, sparse.csr_matrix]\n",
    "    if type(y_true) in matrix_types and type(y_predicted) in matrix_types:\n",
    "        y_true_df = pd.DataFrame(np.array(sorted([[i, j, y_true[i, j]] for i, j in list(zip(y_true.nonzero()[0],y_true.nonzero()[1]))],\n",
    "                                               key=lambda x: (x[0], x[2]))[::-1]), columns=['userID', 'movieID', 'rating'])\n",
    "        y_predicted_df =  pd.DataFrame(np.array(sorted([[i, j, y_predicted[i, j]] for i, j in list(zip(y_true.nonzero()[0],y_true.nonzero()[1]))],\n",
    "                                               key=lambda x: (x[0], x[2]))[::-1]), columns=['userID', 'movieID', 'rating'])\n",
    "    else:\n",
    "        return 'wrong operands types'\n",
    "\n",
    "    RMSE = 0\n",
    "    unique_users = y_true_df.userID.unique()\n",
    "    for user in list(unique_users):\n",
    "        user_true = y_true_df[y_true_df.userID == user]\n",
    "        user_predicted = y_predicted_df[y_predicted_df.userID == user]\n",
    "        RMSE_KU = 0\n",
    "        for i in range(k):\n",
    "            rate_true = list(user_true.rating)[i]\n",
    "            \n",
    "            rate_predicted_movieID = list(user_predicted.movieID).index(list(user_true.movieID)[i])\n",
    "            \n",
    "            rate_predicted = list(user_predicted.rating)[rate_predicted_movieID]    \n",
    "            brac = np.power(rate_true - rate_predicted, 2)\n",
    "            RMSE_KU += brac\n",
    "        RMSE += np.sqrt(RMSE_KU/(i + 1)) \n",
    "    RMSE = RMSE/len(unique_users)\n",
    "    return RMSE"
   ]
  },
  {
   "cell_type": "markdown",
   "metadata": {},
   "source": [
    "##### ndcg score"
   ]
  },
  {
   "cell_type": "code",
   "execution_count": 17,
   "metadata": {
    "collapsed": true
   },
   "outputs": [],
   "source": [
    "def ndcg_score(y_true, y_predicted, k=5):\n",
    "    matrix_types = [np.ndarray, sparse.csr_matrix]\n",
    "    if type(y_true) in matrix_types and type(y_predicted) in matrix_types:\n",
    "        y_true_df = pd.DataFrame(np.array(sorted([[i, j, y_true[i, j]] for i, j in list(zip(y_true.nonzero()[0],y_true.nonzero()[1]))],\n",
    "                                               key=lambda x: (x[0], x[2]))[::-1]), columns=['userID', 'movieID', 'rating'])\n",
    "        y_predicted_df =  pd.DataFrame(np.array(sorted([[i, j, y_predicted[i, j]] for i, j in list(zip(y_true.nonzero()[0],y_true.nonzero()[1]))],\n",
    "                                               key=lambda x: (x[0], x[2]))[::-1]), columns=['userID', 'movieID', 'rating'])\n",
    "    else:\n",
    "        return 'wrong operands types'\n",
    "\n",
    "\n",
    "    def g(r):\n",
    "        return np.power(2, r) - 1\n",
    "    def d(p):\n",
    "        return 1 / np.log2(p + 1)\n",
    "    \n",
    "    DCG = []\n",
    "    unique_users = y_true_df.userID.unique()\n",
    "    for user in unique_users:\n",
    "        user_true = y_true_df[y_true_df.userID == user]\n",
    "        user_predicted = y_predicted_df[y_predicted_df.userID == user]\n",
    "                \n",
    "        NDCG_KU = 0\n",
    "        for i in range(k):\n",
    "            predicted_movie = list(user_predicted.movieID)\n",
    "            rate_true = list(user_true.rating)[i]\n",
    "            pos = predicted_movie.index(list(user_true.movieID)[i]) + 1\n",
    "            NDCG_KU += g(rate_true) * d(pos)   \n",
    "        DCG.append(NDCG_KU)        \n",
    "    DCG = DCG / np.max(DCG)       \n",
    "    NDCG =  np.sum(DCG) / len(unique_users)\n",
    "    return NDCG"
   ]
  },
  {
   "cell_type": "markdown",
   "metadata": {},
   "source": [
    "**3. (1 балл)** Постройте рекомендации на основе **most popular** метода, при котором предсказанный рейтинг для некоторого фильма $i$ одинаков для всех пользователей и совпадает со средним значением рейтинга по всем пользователям, оценившим этот фильм, и вычислите значения метрик RMSE@5 и nDCG@5 для тестовой матрицы из п. 1."
   ]
  },
  {
   "cell_type": "code",
   "execution_count": 18,
   "metadata": {
    "collapsed": true
   },
   "outputs": [],
   "source": [
    "sum_of_ratings = (train_matrix + valid_matrix).sum(axis=0)"
   ]
  },
  {
   "cell_type": "code",
   "execution_count": 19,
   "metadata": {},
   "outputs": [
    {
     "data": {
      "text/plain": [
       "array([ 4655.5,  2258.5,   720. , ...,     0. ,     0. ,     0. ])"
      ]
     },
     "execution_count": 19,
     "metadata": {},
     "output_type": "execute_result"
    }
   ],
   "source": [
    "sum_of_ratings"
   ]
  },
  {
   "cell_type": "code",
   "execution_count": 20,
   "metadata": {
    "collapsed": true
   },
   "outputs": [],
   "source": [
    "number_of_people = (train_matrix + valid_matrix).astype(bool).sum(axis=0)"
   ]
  },
  {
   "cell_type": "code",
   "execution_count": 21,
   "metadata": {},
   "outputs": [
    {
     "data": {
      "text/plain": [
       "array([1247,  759,  251, ...,    0,    0,    0])"
      ]
     },
     "execution_count": 21,
     "metadata": {},
     "output_type": "execute_result"
    }
   ],
   "source": [
    "number_of_people"
   ]
  },
  {
   "cell_type": "code",
   "execution_count": 22,
   "metadata": {},
   "outputs": [
    {
     "name": "stderr",
     "output_type": "stream",
     "text": [
      "C:\\Users\\Gleb\\Anaconda3\\lib\\site-packages\\ipykernel_launcher.py:1: RuntimeWarning: invalid value encountered in true_divide\n",
      "  \"\"\"Entry point for launching an IPython kernel.\n"
     ]
    }
   ],
   "source": [
    "means_ratings = list(sum_of_ratings / number_of_people)"
   ]
  },
  {
   "cell_type": "code",
   "execution_count": 23,
   "metadata": {
    "collapsed": true
   },
   "outputs": [],
   "source": [
    "for i in range(len(means_ratings)):\n",
    "    if str(means_ratings[i]) == 'nan':\n",
    "        means_ratings[i] = np.nanmean(means_ratings)"
   ]
  },
  {
   "cell_type": "code",
   "execution_count": 24,
   "metadata": {
    "collapsed": true
   },
   "outputs": [],
   "source": [
    "most_pop = np.array([means_ratings] * train_matrix.shape[0])"
   ]
  },
  {
   "cell_type": "code",
   "execution_count": 25,
   "metadata": {},
   "outputs": [
    {
     "name": "stdout",
     "output_type": "stream",
     "text": [
      "rmse score 0.826753695915\n"
     ]
    }
   ],
   "source": [
    "score_rmse = rmse_score(test_matrix, most_pop, k=5)\n",
    "print('rmse score', score_rmse)"
   ]
  },
  {
   "cell_type": "code",
   "execution_count": 26,
   "metadata": {},
   "outputs": [
    {
     "name": "stdout",
     "output_type": "stream",
     "text": [
      "ndcg score 0.460298413628\n"
     ]
    }
   ],
   "source": [
    "score_ndsg = ndcg_score(test_matrix, most_pop, k=5)\n",
    "print('ndcg score',score_ndsg)"
   ]
  },
  {
   "cell_type": "markdown",
   "metadata": {},
   "source": [
    "**4. (1 балл)** Реализуйте построение рекомендаций путём разложения матрицы рейтингов с помощью [разреженного SVD](http://scikit-learn.org/stable/modules/generated/sklearn.decomposition.TruncatedSVD.html) (в предположении, что неизвестные рейтинги заменяются на нули) и последующего её восстановления и постройте график зависимости метрик RMSE@5 и nDCG@5 от значения ранга разложения на валидационной выборке (рассмотрите как минимум 10 различных значений ранга разложения)"
   ]
  },
  {
   "cell_type": "code",
   "execution_count": 27,
   "metadata": {
    "collapsed": true
   },
   "outputs": [],
   "source": [
    "from sklearn.decomposition import TruncatedSVD"
   ]
  },
  {
   "cell_type": "code",
   "execution_count": 28,
   "metadata": {
    "collapsed": true
   },
   "outputs": [],
   "source": [
    "components = np.linspace(1,1500,15,dtype=int)\n",
    "rmse_scores = []\n",
    "ndcg_scores = []"
   ]
  },
  {
   "cell_type": "code",
   "execution_count": 29,
   "metadata": {},
   "outputs": [
    {
     "data": {
      "application/vnd.jupyter.widget-view+json": {
       "model_id": "90eb9e1ece474029bc1765a0f9163f7d",
       "version_major": 2,
       "version_minor": 0
      },
      "text/plain": [
       "A Jupyter Widget"
      ]
     },
     "metadata": {},
     "output_type": "display_data"
    },
    {
     "name": "stdout",
     "output_type": "stream",
     "text": [
      "\n"
     ]
    }
   ],
   "source": [
    "for component in tqdm_notebook(components):\n",
    "    TSVD = TruncatedSVD(n_components=component)\n",
    "    TSVD.fit(train_matrix)\n",
    "    y_hat_valid = TSVD.transform(valid_matrix).dot(TSVD.components_)\n",
    "    rmse_scores.append( rmse_score(valid_matrix,y_hat_valid) ) \n",
    "    ndcg_scores.append( ndcg_score(valid_matrix,y_hat_valid) ) "
   ]
  },
  {
   "cell_type": "code",
   "execution_count": 30,
   "metadata": {},
   "outputs": [
    {
     "name": "stderr",
     "output_type": "stream",
     "text": [
      "No handles with labels found to put in legend.\n"
     ]
    },
    {
     "data": {
      "image/png": "[encoded data removed]",
      "text/plain": [
       "<matplotlib.figure.Figure at 0x7b80ca2a90>"
      ]
     },
     "metadata": {},
     "output_type": "display_data"
    }
   ],
   "source": [
    "plt.figure(figsize=(10, 4))\n",
    "plt.plot(components, rmse_scores, linestyle='-', marker='v');\n",
    "plt.xlabel('n_components');\n",
    "plt.ylabel('score');\n",
    "plt.legend();\n"
   ]
  },
  {
   "cell_type": "code",
   "execution_count": 31,
   "metadata": {},
   "outputs": [
    {
     "name": "stderr",
     "output_type": "stream",
     "text": [
      "No handles with labels found to put in legend.\n"
     ]
    },
    {
     "data": {
      "image/png": "[encoded data removed]",
      "text/plain": [
       "<matplotlib.figure.Figure at 0x7b8124a908>"
      ]
     },
     "metadata": {},
     "output_type": "display_data"
    }
   ],
   "source": [
    "plt.figure(figsize=(10, 4))\n",
    "plt.plot(components, ndcg_scores, linestyle='-', marker='v');\n",
    "plt.xlabel('n_components');\n",
    "plt.ylabel('score');\n",
    "plt.legend();"
   ]
  },
  {
   "cell_type": "markdown",
   "metadata": {
    "collapsed": true
   },
   "source": [
    "**5. (3 балла)** Постройте рекомендации на основе user-based коллаборативной фильтрации. \n",
    "Предсказание модели $\\hat{r}_{ui}$ вычисляйте по следующей формуле:\n",
    "$$\\hat{r}_{ui} = \\bar{r}_{u} + \\frac{\\sum_{v \\in U(u)} w_{uv} (r_{vi} - \\bar{r}_v)}{\\sum_{v \\in U(u)} w_{uv}},$$\n",
    "где $\\bar{r}_u$ — средний ретинг пользователя $u$, $w_{uv}$ — мера сходства пользователей $u$ и $v$, $U(u) = \\{ v \\in U \\, | \\, w_{uv} > \\alpha\\}$ — коллаборация пользователя $u$. \n",
    "\n",
    "Значение параметра $\\alpha$ возьмите равным 0.9.\n",
    "\n",
    "Вычислите значения метрик RMSE@5 и nDCG@5 на тестовой выборке."
   ]
  },
  {
   "cell_type": "code",
   "execution_count": 62,
   "metadata": {
    "collapsed": true
   },
   "outputs": [],
   "source": [
    "alpha = 0.9\n",
    "matrix_for_training = train_matrix + valid_matrix"
   ]
  },
  {
   "cell_type": "code",
   "execution_count": 63,
   "metadata": {
    "collapsed": true
   },
   "outputs": [],
   "source": [
    "sums_of = matrix_for_training.sum(axis=1)\n",
    "number_of_people = matrix_for_training.astype(bool).sum(axis=1)\n",
    "means = sums_of / number_of_people"
   ]
  },
  {
   "cell_type": "code",
   "execution_count": 64,
   "metadata": {
    "collapsed": true
   },
   "outputs": [],
   "source": [
    "for i, mean in enumerate(means):\n",
    "            if str(mean) == 'nan':\n",
    "                means[i] = np.nanmean(means)"
   ]
  },
  {
   "cell_type": "code",
   "execution_count": 65,
   "metadata": {
    "collapsed": true
   },
   "outputs": [],
   "source": [
    "distances_matrix = 1 / (1 + np.sqrt(np.dot(matrix_for_training, matrix_for_training.T)))"
   ]
  },
  {
   "cell_type": "code",
   "execution_count": 66,
   "metadata": {
    "collapsed": true
   },
   "outputs": [],
   "source": [
    "suitable = []\n",
    "for i in range(distances_matrix.shape[0]):\n",
    "    suitable_user = []\n",
    "    for j in range(distances_matrix.shape[1]):\n",
    "        if distances_matrix[i, j] > alpha and j!= i:\n",
    "            suitable_user.append(j)\n",
    "    suitable.append(suitable_user)"
   ]
  },
  {
   "cell_type": "code",
   "execution_count": 67,
   "metadata": {
    "collapsed": true
   },
   "outputs": [],
   "source": [
    "result_matrix = sparse.csr_matrix(matrix_for_training.shape)"
   ]
  },
  {
   "cell_type": "code",
   "execution_count": 68,
   "metadata": {},
   "outputs": [
    {
     "name": "stderr",
     "output_type": "stream",
     "text": [
      "C:\\Users\\Gleb\\Anaconda3\\lib\\site-packages\\scipy\\sparse\\compressed.py:774: SparseEfficiencyWarning: Changing the sparsity structure of a csr_matrix is expensive. lil_matrix is more efficient.\n",
      "  SparseEfficiencyWarning)\n"
     ]
    }
   ],
   "source": [
    "for i, j in zip(test_matrix.nonzero()[0],test_matrix.nonzero()[1]):\n",
    "    nominator = 0\n",
    "    denominator = np.sum(suitable[i]) + 1\n",
    "    nominator = np.sum([distances_matrix[i, suit] * (matrix_for_training[suit, j] - means[suit]) for suit in suitable[i]])\n",
    "    result_matrix[i,j] = means[i] + nominator/denominator"
   ]
  },
  {
   "cell_type": "code",
   "execution_count": 69,
   "metadata": {},
   "outputs": [
    {
     "data": {
      "text/plain": [
       "0.84879320820836923"
      ]
     },
     "execution_count": 69,
     "metadata": {},
     "output_type": "execute_result"
    }
   ],
   "source": [
    "rmse_score(test_matrix,result_matrix)"
   ]
  },
  {
   "cell_type": "code",
   "execution_count": 70,
   "metadata": {},
   "outputs": [
    {
     "data": {
      "text/plain": [
       "0.44470648823788783"
      ]
     },
     "execution_count": 70,
     "metadata": {},
     "output_type": "execute_result"
    }
   ],
   "source": [
    "ndcg_score(test_matrix,result_matrix)"
   ]
  },
  {
   "cell_type": "markdown",
   "metadata": {
    "collapsed": true
   },
   "source": [
    "**6. (1 балл)** Какой метод оказался лучше по каким метрикам? Почему?"
   ]
  },
  {
   "cell_type": "markdown",
   "metadata": {
    "collapsed": true
   },
   "source": [
    "* Лучшим методом по метрике RMSE оказался user-based CF. Это происходит из-за того, что SVD находит лучшее приближение разреженной матрицы по евклидовой норме, на него оказыают влияния нулевые значения. Однако в тестовой выборке на месте нулей стоят уже оценки, то есть получается, что указанные в начале нули воспринимаютс за информацию, коей они не несут.\n",
    "\n",
    "* По метрике nDCG чуть лучше себя проявил SVD. Это происходит из-за того, что метрика учитывает лишь то, как отранжированы объекты."
   ]
  },
  {
   "cell_type": "markdown",
   "metadata": {},
   "source": [
    "**7. (1 балл)** Приведите достоинства и недостатки используемых метрик. Какие еще метрики можно было бы использовать для решения задачи? Приведите примеры других постановок задачи, как в этом случае можно было бы оценить качество?"
   ]
  },
  {
   "cell_type": "markdown",
   "metadata": {
    "collapsed": true
   },
   "source": [
    "##### Метрика RMSE\n",
    "* В основе метрики для определенного количества релевантных предметов лежит оценка предсказанных значений\n",
    "* Метрика не учитыает порядок рекомендаций"
   ]
  },
  {
   "cell_type": "markdown",
   "metadata": {},
   "source": [
    "##### Метрика NDCG\n",
    "* Главными ее достоинствами является то, что метрика учитывает порядок рекомендаций и количество релевантных предметов\n",
    "* Информация о том, насколько хорошо модель предсказывает оценку пользователя, не используется"
   ]
  },
  {
   "cell_type": "markdown",
   "metadata": {},
   "source": [
    "#### Другие метрики"
   ]
  },
  {
   "cell_type": "markdown",
   "metadata": {},
   "source": [
    "* **MAP@k (Mean Average Precision)**:<br/>$$MAP=\\frac{1}{|U|}\\sum_{u \\in U}{\\frac{1}{k}\\sum_{i=1}^{k}{rel(u,i)P\\text{@}k(u)}}.$$<br/>Плюсы и минусы метрики такие же, как и у метрики nDCG."
   ]
  }
 ],
 "metadata": {
  "kernelspec": {
   "display_name": "Python 3",
   "language": "python",
   "name": "python3"
  },
  "language_info": {
   "codemirror_mode": {
    "name": "ipython",
    "version": 3
   },
   "file_extension": ".py",
   "mimetype": "text/x-python",
   "name": "python",
   "nbconvert_exporter": "python",
   "pygments_lexer": "ipython3",
   "version": "3.6.2"
  }
 },
 "nbformat": 4,
 "nbformat_minor": 1
}
